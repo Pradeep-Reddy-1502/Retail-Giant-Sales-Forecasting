{
 "cells": [
  {
   "cell_type": "markdown",
   "metadata": {},
   "source": [
    "# Retail Giant Sales Forecasting"
   ]
  },
  {
   "cell_type": "markdown",
   "metadata": {},
   "source": [
    "## Step-1: Data Preparation\n",
    "                \n",
    "                1) Reading the data\n",
    "                2) Calculation COV (Coefficient Of Variation)\n",
    "\n",
    "## Step-2: Build and evaluate time series forecast\n",
    "                1) Time series Decomposition\n",
    "                            a) Additive seasonal decomposition\n",
    "                            b) Multiplicative seasonal decomposition\n",
    "                2) Exponential smoothing methods\n",
    "                            a) Simple exponential smoothing\n",
    "                            b) Holt's method with trend:\n",
    "                            c) Holt Winters' additive method with trend and seasonality\n",
    "                            d) Holt Winter's multiplicative method with trend and seasonality\n",
    "                3) Auto Regressive methods\n",
    "                            a) Stationary tests\n",
    "                            b) Conversion of Non-Stationary to Stationary\n",
    "                            c) Auto regression method (AR)\n",
    "                            d) Moving average method (MA)\n",
    "                            e) Auto regression moving average method (ARMA)\n",
    "                            f) Auto regressive integrated moving average (ARIMA)\n",
    "                            g) Seasonal auto regressive integrated moving average (SARIMA)                                     \n",
    "                4) Conclusion"
   ]
  },
  {
   "cell_type": "markdown",
   "metadata": {},
   "source": [
    "## Step-1: Data Preparation"
   ]
  },
  {
   "cell_type": "markdown",
   "metadata": {},
   "source": [
    "## 1. Reading the data"
   ]
  },
  {
   "cell_type": "markdown",
   "metadata": {},
   "source": [
    "### Import required packages"
   ]
  },
  {
   "cell_type": "code",
   "execution_count": 1,
   "metadata": {},
   "outputs": [],
   "source": [
    "import pandas as pd \n",
    "import numpy as np\n",
    "import matplotlib.pyplot as plt\n",
    "import seaborn as sns\n",
    "%matplotlib inline\n",
    "\n",
    "import warnings\n",
    "warnings.filterwarnings(\"ignore\")"
   ]
  },
  {
   "cell_type": "markdown",
   "metadata": {},
   "source": [
    "### Import time series data: Global Superstore"
   ]
  },
  {
   "cell_type": "code",
   "execution_count": 2,
   "metadata": {},
   "outputs": [
    {
     "data": {
      "text/html": [
       "<div>\n",
       "<style scoped>\n",
       "    .dataframe tbody tr th:only-of-type {\n",
       "        vertical-align: middle;\n",
       "    }\n",
       "\n",
       "    .dataframe tbody tr th {\n",
       "        vertical-align: top;\n",
       "    }\n",
       "\n",
       "    .dataframe thead th {\n",
       "        text-align: right;\n",
       "    }\n",
       "</style>\n",
       "<table border=\"1\" class=\"dataframe\">\n",
       "  <thead>\n",
       "    <tr style=\"text-align: right;\">\n",
       "      <th></th>\n",
       "      <th>Order Date</th>\n",
       "      <th>Segment</th>\n",
       "      <th>Market</th>\n",
       "      <th>Sales</th>\n",
       "      <th>Profit</th>\n",
       "    </tr>\n",
       "  </thead>\n",
       "  <tbody>\n",
       "    <tr>\n",
       "      <th>0</th>\n",
       "      <td>31-07-2012</td>\n",
       "      <td>Consumer</td>\n",
       "      <td>US</td>\n",
       "      <td>2309.650</td>\n",
       "      <td>762.1845</td>\n",
       "    </tr>\n",
       "    <tr>\n",
       "      <th>1</th>\n",
       "      <td>05-02-2013</td>\n",
       "      <td>Corporate</td>\n",
       "      <td>APAC</td>\n",
       "      <td>3709.395</td>\n",
       "      <td>-288.7650</td>\n",
       "    </tr>\n",
       "    <tr>\n",
       "      <th>2</th>\n",
       "      <td>17-10-2013</td>\n",
       "      <td>Consumer</td>\n",
       "      <td>APAC</td>\n",
       "      <td>5175.171</td>\n",
       "      <td>919.9710</td>\n",
       "    </tr>\n",
       "    <tr>\n",
       "      <th>3</th>\n",
       "      <td>28-01-2013</td>\n",
       "      <td>Home Office</td>\n",
       "      <td>EU</td>\n",
       "      <td>2892.510</td>\n",
       "      <td>-96.5400</td>\n",
       "    </tr>\n",
       "    <tr>\n",
       "      <th>4</th>\n",
       "      <td>05-11-2013</td>\n",
       "      <td>Consumer</td>\n",
       "      <td>Africa</td>\n",
       "      <td>2832.960</td>\n",
       "      <td>311.5200</td>\n",
       "    </tr>\n",
       "    <tr>\n",
       "      <th>5</th>\n",
       "      <td>28-06-2013</td>\n",
       "      <td>Corporate</td>\n",
       "      <td>APAC</td>\n",
       "      <td>2862.675</td>\n",
       "      <td>763.2750</td>\n",
       "    </tr>\n",
       "    <tr>\n",
       "      <th>6</th>\n",
       "      <td>07-11-2011</td>\n",
       "      <td>Consumer</td>\n",
       "      <td>APAC</td>\n",
       "      <td>1822.080</td>\n",
       "      <td>564.8400</td>\n",
       "    </tr>\n",
       "    <tr>\n",
       "      <th>7</th>\n",
       "      <td>14-04-2012</td>\n",
       "      <td>Consumer</td>\n",
       "      <td>APAC</td>\n",
       "      <td>5244.840</td>\n",
       "      <td>996.4800</td>\n",
       "    </tr>\n",
       "    <tr>\n",
       "      <th>8</th>\n",
       "      <td>14-10-2014</td>\n",
       "      <td>Corporate</td>\n",
       "      <td>US</td>\n",
       "      <td>5083.960</td>\n",
       "      <td>1906.4850</td>\n",
       "    </tr>\n",
       "    <tr>\n",
       "      <th>9</th>\n",
       "      <td>28-01-2012</td>\n",
       "      <td>Consumer</td>\n",
       "      <td>US</td>\n",
       "      <td>4297.644</td>\n",
       "      <td>-1862.3124</td>\n",
       "    </tr>\n",
       "    <tr>\n",
       "      <th>10</th>\n",
       "      <td>05-04-2011</td>\n",
       "      <td>Corporate</td>\n",
       "      <td>US</td>\n",
       "      <td>4164.050</td>\n",
       "      <td>83.2810</td>\n",
       "    </tr>\n",
       "    <tr>\n",
       "      <th>11</th>\n",
       "      <td>19-04-2012</td>\n",
       "      <td>Corporate</td>\n",
       "      <td>APAC</td>\n",
       "      <td>4626.150</td>\n",
       "      <td>647.5500</td>\n",
       "    </tr>\n",
       "    <tr>\n",
       "      <th>12</th>\n",
       "      <td>27-12-2011</td>\n",
       "      <td>Consumer</td>\n",
       "      <td>EMEA</td>\n",
       "      <td>2616.960</td>\n",
       "      <td>1151.4000</td>\n",
       "    </tr>\n",
       "    <tr>\n",
       "      <th>13</th>\n",
       "      <td>13-11-2012</td>\n",
       "      <td>Home Office</td>\n",
       "      <td>LATAM</td>\n",
       "      <td>2221.800</td>\n",
       "      <td>622.0200</td>\n",
       "    </tr>\n",
       "    <tr>\n",
       "      <th>14</th>\n",
       "      <td>06-06-2013</td>\n",
       "      <td>Consumer</td>\n",
       "      <td>APAC</td>\n",
       "      <td>3701.520</td>\n",
       "      <td>1036.0800</td>\n",
       "    </tr>\n",
       "    <tr>\n",
       "      <th>15</th>\n",
       "      <td>31-07-2014</td>\n",
       "      <td>Corporate</td>\n",
       "      <td>EU</td>\n",
       "      <td>1869.588</td>\n",
       "      <td>186.9480</td>\n",
       "    </tr>\n",
       "    <tr>\n",
       "      <th>16</th>\n",
       "      <td>03-11-2014</td>\n",
       "      <td>Corporate</td>\n",
       "      <td>US</td>\n",
       "      <td>2249.910</td>\n",
       "      <td>517.4793</td>\n",
       "    </tr>\n",
       "    <tr>\n",
       "      <th>17</th>\n",
       "      <td>08-09-2014</td>\n",
       "      <td>Corporate</td>\n",
       "      <td>EU</td>\n",
       "      <td>7958.580</td>\n",
       "      <td>3979.0800</td>\n",
       "    </tr>\n",
       "    <tr>\n",
       "      <th>18</th>\n",
       "      <td>31-01-2014</td>\n",
       "      <td>Corporate</td>\n",
       "      <td>APAC</td>\n",
       "      <td>2565.594</td>\n",
       "      <td>28.4040</td>\n",
       "    </tr>\n",
       "    <tr>\n",
       "      <th>19</th>\n",
       "      <td>05-12-2014</td>\n",
       "      <td>Consumer</td>\n",
       "      <td>Africa</td>\n",
       "      <td>3409.740</td>\n",
       "      <td>818.2800</td>\n",
       "    </tr>\n",
       "  </tbody>\n",
       "</table>\n",
       "</div>"
      ],
      "text/plain": [
       "    Order Date      Segment  Market     Sales     Profit\n",
       "0   31-07-2012     Consumer      US  2309.650   762.1845\n",
       "1   05-02-2013    Corporate    APAC  3709.395  -288.7650\n",
       "2   17-10-2013     Consumer    APAC  5175.171   919.9710\n",
       "3   28-01-2013  Home Office      EU  2892.510   -96.5400\n",
       "4   05-11-2013     Consumer  Africa  2832.960   311.5200\n",
       "5   28-06-2013    Corporate    APAC  2862.675   763.2750\n",
       "6   07-11-2011     Consumer    APAC  1822.080   564.8400\n",
       "7   14-04-2012     Consumer    APAC  5244.840   996.4800\n",
       "8   14-10-2014    Corporate      US  5083.960  1906.4850\n",
       "9   28-01-2012     Consumer      US  4297.644 -1862.3124\n",
       "10  05-04-2011    Corporate      US  4164.050    83.2810\n",
       "11  19-04-2012    Corporate    APAC  4626.150   647.5500\n",
       "12  27-12-2011     Consumer    EMEA  2616.960  1151.4000\n",
       "13  13-11-2012  Home Office   LATAM  2221.800   622.0200\n",
       "14  06-06-2013     Consumer    APAC  3701.520  1036.0800\n",
       "15  31-07-2014    Corporate      EU  1869.588   186.9480\n",
       "16  03-11-2014    Corporate      US  2249.910   517.4793\n",
       "17  08-09-2014    Corporate      EU  7958.580  3979.0800\n",
       "18  31-01-2014    Corporate    APAC  2565.594    28.4040\n",
       "19  05-12-2014     Consumer  Africa  3409.740   818.2800"
      ]
     },
     "execution_count": 2,
     "metadata": {},
     "output_type": "execute_result"
    }
   ],
   "source": [
    "ss_data = pd.read_csv(\"Global+Superstore+Data.csv\")\n",
    "ss_data.head(20)"
   ]
  },
  {
   "cell_type": "code",
   "execution_count": 3,
   "metadata": {},
   "outputs": [
    {
     "name": "stdout",
     "output_type": "stream",
     "text": [
      "<class 'pandas.core.frame.DataFrame'>\n",
      "RangeIndex: 51290 entries, 0 to 51289\n",
      "Data columns (total 5 columns):\n",
      " #   Column      Non-Null Count  Dtype  \n",
      "---  ------      --------------  -----  \n",
      " 0   Order Date  51290 non-null  object \n",
      " 1   Segment     51290 non-null  object \n",
      " 2   Market      51290 non-null  object \n",
      " 3   Sales       51290 non-null  float64\n",
      " 4   Profit      51290 non-null  float64\n",
      "dtypes: float64(2), object(3)\n",
      "memory usage: 2.0+ MB\n"
     ]
    }
   ],
   "source": [
    "ss_data.info()"
   ]
  },
  {
   "cell_type": "code",
   "execution_count": 4,
   "metadata": {},
   "outputs": [
    {
     "data": {
      "text/plain": [
       "Order Date    0\n",
       "Segment       0\n",
       "Market        0\n",
       "Sales         0\n",
       "Profit        0\n",
       "dtype: int64"
      ]
     },
     "execution_count": 4,
     "metadata": {},
     "output_type": "execute_result"
    }
   ],
   "source": [
    "# Check for missing values\n",
    "\n",
    "ss_data.isnull().sum()"
   ]
  },
  {
   "cell_type": "markdown",
   "metadata": {},
   "source": [
    "#### There are no missing values in the Super-store dataset."
   ]
  },
  {
   "cell_type": "code",
   "execution_count": 5,
   "metadata": {},
   "outputs": [],
   "source": [
    "# Converting the date format into year-month\n",
    "\n",
    "ss_data['Order Date'] = pd.to_datetime(ss_data['Order Date']).dt.to_period('m')\n",
    "\n",
    "ss_data.sort_values(by = 'Order Date',inplace = True)"
   ]
  },
  {
   "cell_type": "code",
   "execution_count": 6,
   "metadata": {},
   "outputs": [
    {
     "name": "stdout",
     "output_type": "stream",
     "text": [
      "<class 'pandas.core.frame.DataFrame'>\n",
      "Int64Index: 51290 entries, 15262 to 541\n",
      "Data columns (total 5 columns):\n",
      " #   Column      Non-Null Count  Dtype    \n",
      "---  ------      --------------  -----    \n",
      " 0   Order Date  51290 non-null  period[M]\n",
      " 1   Segment     51290 non-null  object   \n",
      " 2   Market      51290 non-null  object   \n",
      " 3   Sales       51290 non-null  float64  \n",
      " 4   Profit      51290 non-null  float64  \n",
      "dtypes: float64(2), object(2), period[M](1)\n",
      "memory usage: 2.3+ MB\n"
     ]
    }
   ],
   "source": [
    "ss_data.info()"
   ]
  },
  {
   "cell_type": "code",
   "execution_count": 7,
   "metadata": {},
   "outputs": [
    {
     "data": {
      "text/html": [
       "<div>\n",
       "<style scoped>\n",
       "    .dataframe tbody tr th:only-of-type {\n",
       "        vertical-align: middle;\n",
       "    }\n",
       "\n",
       "    .dataframe tbody tr th {\n",
       "        vertical-align: top;\n",
       "    }\n",
       "\n",
       "    .dataframe thead th {\n",
       "        text-align: right;\n",
       "    }\n",
       "</style>\n",
       "<table border=\"1\" class=\"dataframe\">\n",
       "  <thead>\n",
       "    <tr style=\"text-align: right;\">\n",
       "      <th></th>\n",
       "      <th>Order Date</th>\n",
       "      <th>Segment</th>\n",
       "      <th>Market</th>\n",
       "      <th>Sales</th>\n",
       "      <th>Profit</th>\n",
       "      <th>Market_Segment</th>\n",
       "    </tr>\n",
       "  </thead>\n",
       "  <tbody>\n",
       "    <tr>\n",
       "      <th>15262</th>\n",
       "      <td>2011-01</td>\n",
       "      <td>Corporate</td>\n",
       "      <td>EU</td>\n",
       "      <td>139.6500</td>\n",
       "      <td>15.3000</td>\n",
       "      <td>Corporate_EU</td>\n",
       "    </tr>\n",
       "    <tr>\n",
       "      <th>26744</th>\n",
       "      <td>2011-01</td>\n",
       "      <td>Consumer</td>\n",
       "      <td>EU</td>\n",
       "      <td>88.4400</td>\n",
       "      <td>15.8400</td>\n",
       "      <td>Consumer_EU</td>\n",
       "    </tr>\n",
       "    <tr>\n",
       "      <th>48614</th>\n",
       "      <td>2011-01</td>\n",
       "      <td>Corporate</td>\n",
       "      <td>EU</td>\n",
       "      <td>11.4300</td>\n",
       "      <td>4.1100</td>\n",
       "      <td>Corporate_EU</td>\n",
       "    </tr>\n",
       "    <tr>\n",
       "      <th>9417</th>\n",
       "      <td>2011-01</td>\n",
       "      <td>Consumer</td>\n",
       "      <td>LATAM</td>\n",
       "      <td>491.0000</td>\n",
       "      <td>122.7000</td>\n",
       "      <td>Consumer_LATAM</td>\n",
       "    </tr>\n",
       "    <tr>\n",
       "      <th>48590</th>\n",
       "      <td>2011-01</td>\n",
       "      <td>Home Office</td>\n",
       "      <td>US</td>\n",
       "      <td>4.7100</td>\n",
       "      <td>0.0000</td>\n",
       "      <td>Home Office_US</td>\n",
       "    </tr>\n",
       "    <tr>\n",
       "      <th>...</th>\n",
       "      <td>...</td>\n",
       "      <td>...</td>\n",
       "      <td>...</td>\n",
       "      <td>...</td>\n",
       "      <td>...</td>\n",
       "      <td>...</td>\n",
       "    </tr>\n",
       "    <tr>\n",
       "      <th>26850</th>\n",
       "      <td>2014-12</td>\n",
       "      <td>Corporate</td>\n",
       "      <td>EMEA</td>\n",
       "      <td>42.9600</td>\n",
       "      <td>5.0400</td>\n",
       "      <td>Corporate_EMEA</td>\n",
       "    </tr>\n",
       "    <tr>\n",
       "      <th>19243</th>\n",
       "      <td>2014-12</td>\n",
       "      <td>Consumer</td>\n",
       "      <td>EMEA</td>\n",
       "      <td>80.7360</td>\n",
       "      <td>-117.1440</td>\n",
       "      <td>Consumer_EMEA</td>\n",
       "    </tr>\n",
       "    <tr>\n",
       "      <th>7829</th>\n",
       "      <td>2014-12</td>\n",
       "      <td>Consumer</td>\n",
       "      <td>APAC</td>\n",
       "      <td>608.5800</td>\n",
       "      <td>0.0000</td>\n",
       "      <td>Consumer_APAC</td>\n",
       "    </tr>\n",
       "    <tr>\n",
       "      <th>21163</th>\n",
       "      <td>2014-12</td>\n",
       "      <td>Consumer</td>\n",
       "      <td>APAC</td>\n",
       "      <td>185.0688</td>\n",
       "      <td>-102.8712</td>\n",
       "      <td>Consumer_APAC</td>\n",
       "    </tr>\n",
       "    <tr>\n",
       "      <th>541</th>\n",
       "      <td>2014-12</td>\n",
       "      <td>Consumer</td>\n",
       "      <td>LATAM</td>\n",
       "      <td>664.5600</td>\n",
       "      <td>6.6000</td>\n",
       "      <td>Consumer_LATAM</td>\n",
       "    </tr>\n",
       "  </tbody>\n",
       "</table>\n",
       "<p>51290 rows × 6 columns</p>\n",
       "</div>"
      ],
      "text/plain": [
       "      Order Date      Segment Market     Sales    Profit  Market_Segment\n",
       "15262    2011-01    Corporate     EU  139.6500   15.3000    Corporate_EU\n",
       "26744    2011-01     Consumer     EU   88.4400   15.8400     Consumer_EU\n",
       "48614    2011-01    Corporate     EU   11.4300    4.1100    Corporate_EU\n",
       "9417     2011-01     Consumer  LATAM  491.0000  122.7000  Consumer_LATAM\n",
       "48590    2011-01  Home Office     US    4.7100    0.0000  Home Office_US\n",
       "...          ...          ...    ...       ...       ...             ...\n",
       "26850    2014-12    Corporate   EMEA   42.9600    5.0400  Corporate_EMEA\n",
       "19243    2014-12     Consumer   EMEA   80.7360 -117.1440   Consumer_EMEA\n",
       "7829     2014-12     Consumer   APAC  608.5800    0.0000   Consumer_APAC\n",
       "21163    2014-12     Consumer   APAC  185.0688 -102.8712   Consumer_APAC\n",
       "541      2014-12     Consumer  LATAM  664.5600    6.6000  Consumer_LATAM\n",
       "\n",
       "[51290 rows x 6 columns]"
      ]
     },
     "execution_count": 7,
     "metadata": {},
     "output_type": "execute_result"
    }
   ],
   "source": [
    "# Creating the Market_Segment column by concatinating both Market and Segment columns\n",
    "\n",
    "ss_data[\"Market_Segment\"] = ss_data[\"Segment\"]+\"_\"+ss_data[\"Market\"]\n",
    "ss_data"
   ]
  },
  {
   "cell_type": "markdown",
   "metadata": {},
   "source": [
    "## 2. Calculating COV(Coefficient Of Variation)"
   ]
  },
  {
   "cell_type": "markdown",
   "metadata": {},
   "source": [
    "### Split time series data into training and test set"
   ]
  },
  {
   "cell_type": "code",
   "execution_count": 8,
   "metadata": {},
   "outputs": [
    {
     "data": {
      "text/html": [
       "<div>\n",
       "<style scoped>\n",
       "    .dataframe tbody tr th:only-of-type {\n",
       "        vertical-align: middle;\n",
       "    }\n",
       "\n",
       "    .dataframe tbody tr th {\n",
       "        vertical-align: top;\n",
       "    }\n",
       "\n",
       "    .dataframe thead th {\n",
       "        text-align: right;\n",
       "    }\n",
       "</style>\n",
       "<table border=\"1\" class=\"dataframe\">\n",
       "  <thead>\n",
       "    <tr style=\"text-align: right;\">\n",
       "      <th>Market_Segment</th>\n",
       "      <th>Consumer_APAC</th>\n",
       "      <th>Consumer_Africa</th>\n",
       "      <th>Consumer_Canada</th>\n",
       "      <th>Consumer_EMEA</th>\n",
       "      <th>Consumer_EU</th>\n",
       "      <th>Consumer_LATAM</th>\n",
       "      <th>Consumer_US</th>\n",
       "      <th>Corporate_APAC</th>\n",
       "      <th>Corporate_Africa</th>\n",
       "      <th>Corporate_Canada</th>\n",
       "      <th>...</th>\n",
       "      <th>Corporate_EU</th>\n",
       "      <th>Corporate_LATAM</th>\n",
       "      <th>Corporate_US</th>\n",
       "      <th>Home Office_APAC</th>\n",
       "      <th>Home Office_Africa</th>\n",
       "      <th>Home Office_Canada</th>\n",
       "      <th>Home Office_EMEA</th>\n",
       "      <th>Home Office_EU</th>\n",
       "      <th>Home Office_LATAM</th>\n",
       "      <th>Home Office_US</th>\n",
       "    </tr>\n",
       "    <tr>\n",
       "      <th>Order Date</th>\n",
       "      <th></th>\n",
       "      <th></th>\n",
       "      <th></th>\n",
       "      <th></th>\n",
       "      <th></th>\n",
       "      <th></th>\n",
       "      <th></th>\n",
       "      <th></th>\n",
       "      <th></th>\n",
       "      <th></th>\n",
       "      <th></th>\n",
       "      <th></th>\n",
       "      <th></th>\n",
       "      <th></th>\n",
       "      <th></th>\n",
       "      <th></th>\n",
       "      <th></th>\n",
       "      <th></th>\n",
       "      <th></th>\n",
       "      <th></th>\n",
       "      <th></th>\n",
       "    </tr>\n",
       "  </thead>\n",
       "  <tbody>\n",
       "    <tr>\n",
       "      <th>2011-01</th>\n",
       "      <td>2254.4898</td>\n",
       "      <td>265.539</td>\n",
       "      <td>447.33</td>\n",
       "      <td>-2952.594</td>\n",
       "      <td>2259.8670</td>\n",
       "      <td>540.44312</td>\n",
       "      <td>2465.8368</td>\n",
       "      <td>-173.7264</td>\n",
       "      <td>520.026</td>\n",
       "      <td>12.57</td>\n",
       "      <td>...</td>\n",
       "      <td>841.3875</td>\n",
       "      <td>1021.05924</td>\n",
       "      <td>643.3689</td>\n",
       "      <td>230.2656</td>\n",
       "      <td>391.515</td>\n",
       "      <td>NaN</td>\n",
       "      <td>392.526</td>\n",
       "      <td>2534.5680</td>\n",
       "      <td>-26.59744</td>\n",
       "      <td>1233.9329</td>\n",
       "    </tr>\n",
       "    <tr>\n",
       "      <th>2011-02</th>\n",
       "      <td>4627.8531</td>\n",
       "      <td>-201.888</td>\n",
       "      <td>26.43</td>\n",
       "      <td>464.160</td>\n",
       "      <td>-783.9945</td>\n",
       "      <td>1227.86616</td>\n",
       "      <td>1853.5541</td>\n",
       "      <td>3600.7776</td>\n",
       "      <td>-31.689</td>\n",
       "      <td>9.24</td>\n",
       "      <td>...</td>\n",
       "      <td>2234.4060</td>\n",
       "      <td>814.03020</td>\n",
       "      <td>421.9256</td>\n",
       "      <td>617.5407</td>\n",
       "      <td>825.606</td>\n",
       "      <td>87.99</td>\n",
       "      <td>368.070</td>\n",
       "      <td>162.2550</td>\n",
       "      <td>-356.80440</td>\n",
       "      <td>553.9467</td>\n",
       "    </tr>\n",
       "    <tr>\n",
       "      <th>2011-03</th>\n",
       "      <td>2337.8319</td>\n",
       "      <td>919.074</td>\n",
       "      <td>82.47</td>\n",
       "      <td>706.380</td>\n",
       "      <td>1273.7100</td>\n",
       "      <td>2427.39612</td>\n",
       "      <td>204.2007</td>\n",
       "      <td>3634.9365</td>\n",
       "      <td>244.437</td>\n",
       "      <td>NaN</td>\n",
       "      <td>...</td>\n",
       "      <td>2206.5960</td>\n",
       "      <td>178.66400</td>\n",
       "      <td>127.4696</td>\n",
       "      <td>205.1052</td>\n",
       "      <td>83.430</td>\n",
       "      <td>84.03</td>\n",
       "      <td>-15.570</td>\n",
       "      <td>269.7450</td>\n",
       "      <td>769.88400</td>\n",
       "      <td>-268.9314</td>\n",
       "    </tr>\n",
       "    <tr>\n",
       "      <th>2011-04</th>\n",
       "      <td>633.6423</td>\n",
       "      <td>381.315</td>\n",
       "      <td>55.08</td>\n",
       "      <td>121.353</td>\n",
       "      <td>2980.0065</td>\n",
       "      <td>1368.82948</td>\n",
       "      <td>1434.8636</td>\n",
       "      <td>90.7521</td>\n",
       "      <td>941.751</td>\n",
       "      <td>6.51</td>\n",
       "      <td>...</td>\n",
       "      <td>981.1470</td>\n",
       "      <td>872.64068</td>\n",
       "      <td>494.7315</td>\n",
       "      <td>603.8478</td>\n",
       "      <td>417.618</td>\n",
       "      <td>NaN</td>\n",
       "      <td>-456.510</td>\n",
       "      <td>130.3710</td>\n",
       "      <td>-554.22952</td>\n",
       "      <td>2723.4358</td>\n",
       "    </tr>\n",
       "    <tr>\n",
       "      <th>2011-05</th>\n",
       "      <td>3838.9500</td>\n",
       "      <td>-39.981</td>\n",
       "      <td>0.87</td>\n",
       "      <td>172.554</td>\n",
       "      <td>673.0080</td>\n",
       "      <td>1749.39200</td>\n",
       "      <td>833.9433</td>\n",
       "      <td>1028.4489</td>\n",
       "      <td>490.650</td>\n",
       "      <td>NaN</td>\n",
       "      <td>...</td>\n",
       "      <td>1719.0600</td>\n",
       "      <td>134.87252</td>\n",
       "      <td>2912.7976</td>\n",
       "      <td>102.0315</td>\n",
       "      <td>39.180</td>\n",
       "      <td>NaN</td>\n",
       "      <td>-33.591</td>\n",
       "      <td>443.3100</td>\n",
       "      <td>-397.95600</td>\n",
       "      <td>145.7781</td>\n",
       "    </tr>\n",
       "    <tr>\n",
       "      <th>2011-06</th>\n",
       "      <td>5231.0316</td>\n",
       "      <td>-929.148</td>\n",
       "      <td>7.50</td>\n",
       "      <td>745.518</td>\n",
       "      <td>4135.4460</td>\n",
       "      <td>-115.27088</td>\n",
       "      <td>2414.4710</td>\n",
       "      <td>4550.5506</td>\n",
       "      <td>-400.917</td>\n",
       "      <td>40.08</td>\n",
       "      <td>...</td>\n",
       "      <td>2214.9660</td>\n",
       "      <td>3248.31820</td>\n",
       "      <td>447.1375</td>\n",
       "      <td>264.6204</td>\n",
       "      <td>-727.611</td>\n",
       "      <td>23.40</td>\n",
       "      <td>551.208</td>\n",
       "      <td>1580.4495</td>\n",
       "      <td>324.38564</td>\n",
       "      <td>208.4844</td>\n",
       "    </tr>\n",
       "    <tr>\n",
       "      <th>2011-07</th>\n",
       "      <td>1928.5449</td>\n",
       "      <td>787.158</td>\n",
       "      <td>NaN</td>\n",
       "      <td>-333.285</td>\n",
       "      <td>602.7330</td>\n",
       "      <td>2344.33328</td>\n",
       "      <td>-2620.8365</td>\n",
       "      <td>2322.9585</td>\n",
       "      <td>105.597</td>\n",
       "      <td>509.19</td>\n",
       "      <td>...</td>\n",
       "      <td>1394.9100</td>\n",
       "      <td>-186.83332</td>\n",
       "      <td>648.1498</td>\n",
       "      <td>3261.9522</td>\n",
       "      <td>-318.942</td>\n",
       "      <td>8.40</td>\n",
       "      <td>-2114.334</td>\n",
       "      <td>463.4070</td>\n",
       "      <td>298.97200</td>\n",
       "      <td>1636.2932</td>\n",
       "    </tr>\n",
       "    <tr>\n",
       "      <th>2011-08</th>\n",
       "      <td>1101.5235</td>\n",
       "      <td>-387.558</td>\n",
       "      <td>23.88</td>\n",
       "      <td>1344.744</td>\n",
       "      <td>2264.9640</td>\n",
       "      <td>2270.28272</td>\n",
       "      <td>-548.0292</td>\n",
       "      <td>3137.2923</td>\n",
       "      <td>-712.866</td>\n",
       "      <td>NaN</td>\n",
       "      <td>...</td>\n",
       "      <td>4390.4490</td>\n",
       "      <td>317.83228</td>\n",
       "      <td>1910.2192</td>\n",
       "      <td>2187.2787</td>\n",
       "      <td>1999.050</td>\n",
       "      <td>NaN</td>\n",
       "      <td>-218.802</td>\n",
       "      <td>350.1180</td>\n",
       "      <td>660.28524</td>\n",
       "      <td>700.9315</td>\n",
       "    </tr>\n",
       "    <tr>\n",
       "      <th>2011-09</th>\n",
       "      <td>3088.9449</td>\n",
       "      <td>274.701</td>\n",
       "      <td>181.29</td>\n",
       "      <td>61.575</td>\n",
       "      <td>6129.7185</td>\n",
       "      <td>1737.60452</td>\n",
       "      <td>9813.4142</td>\n",
       "      <td>2040.2007</td>\n",
       "      <td>832.434</td>\n",
       "      <td>52.14</td>\n",
       "      <td>...</td>\n",
       "      <td>2704.1565</td>\n",
       "      <td>-523.86568</td>\n",
       "      <td>-262.5736</td>\n",
       "      <td>1221.6693</td>\n",
       "      <td>239.550</td>\n",
       "      <td>18.06</td>\n",
       "      <td>582.318</td>\n",
       "      <td>2891.2710</td>\n",
       "      <td>696.95344</td>\n",
       "      <td>676.0368</td>\n",
       "    </tr>\n",
       "    <tr>\n",
       "      <th>2011-10</th>\n",
       "      <td>6719.4081</td>\n",
       "      <td>1486.608</td>\n",
       "      <td>30.06</td>\n",
       "      <td>-99.834</td>\n",
       "      <td>3449.6355</td>\n",
       "      <td>4475.25472</td>\n",
       "      <td>3066.6899</td>\n",
       "      <td>5881.0932</td>\n",
       "      <td>-433.086</td>\n",
       "      <td>NaN</td>\n",
       "      <td>...</td>\n",
       "      <td>619.8120</td>\n",
       "      <td>954.40508</td>\n",
       "      <td>781.3930</td>\n",
       "      <td>611.0607</td>\n",
       "      <td>811.422</td>\n",
       "      <td>NaN</td>\n",
       "      <td>30.870</td>\n",
       "      <td>505.0080</td>\n",
       "      <td>941.76416</td>\n",
       "      <td>215.3313</td>\n",
       "    </tr>\n",
       "  </tbody>\n",
       "</table>\n",
       "<p>10 rows × 21 columns</p>\n",
       "</div>"
      ],
      "text/plain": [
       "Market_Segment  Consumer_APAC  Consumer_Africa  Consumer_Canada  \\\n",
       "Order Date                                                        \n",
       "2011-01             2254.4898          265.539           447.33   \n",
       "2011-02             4627.8531         -201.888            26.43   \n",
       "2011-03             2337.8319          919.074            82.47   \n",
       "2011-04              633.6423          381.315            55.08   \n",
       "2011-05             3838.9500          -39.981             0.87   \n",
       "2011-06             5231.0316         -929.148             7.50   \n",
       "2011-07             1928.5449          787.158              NaN   \n",
       "2011-08             1101.5235         -387.558            23.88   \n",
       "2011-09             3088.9449          274.701           181.29   \n",
       "2011-10             6719.4081         1486.608            30.06   \n",
       "\n",
       "Market_Segment  Consumer_EMEA  Consumer_EU  Consumer_LATAM  Consumer_US  \\\n",
       "Order Date                                                                \n",
       "2011-01             -2952.594    2259.8670       540.44312    2465.8368   \n",
       "2011-02               464.160    -783.9945      1227.86616    1853.5541   \n",
       "2011-03               706.380    1273.7100      2427.39612     204.2007   \n",
       "2011-04               121.353    2980.0065      1368.82948    1434.8636   \n",
       "2011-05               172.554     673.0080      1749.39200     833.9433   \n",
       "2011-06               745.518    4135.4460      -115.27088    2414.4710   \n",
       "2011-07              -333.285     602.7330      2344.33328   -2620.8365   \n",
       "2011-08              1344.744    2264.9640      2270.28272    -548.0292   \n",
       "2011-09                61.575    6129.7185      1737.60452    9813.4142   \n",
       "2011-10               -99.834    3449.6355      4475.25472    3066.6899   \n",
       "\n",
       "Market_Segment  Corporate_APAC  Corporate_Africa  Corporate_Canada  ...  \\\n",
       "Order Date                                                          ...   \n",
       "2011-01              -173.7264           520.026             12.57  ...   \n",
       "2011-02              3600.7776           -31.689              9.24  ...   \n",
       "2011-03              3634.9365           244.437               NaN  ...   \n",
       "2011-04                90.7521           941.751              6.51  ...   \n",
       "2011-05              1028.4489           490.650               NaN  ...   \n",
       "2011-06              4550.5506          -400.917             40.08  ...   \n",
       "2011-07              2322.9585           105.597            509.19  ...   \n",
       "2011-08              3137.2923          -712.866               NaN  ...   \n",
       "2011-09              2040.2007           832.434             52.14  ...   \n",
       "2011-10              5881.0932          -433.086               NaN  ...   \n",
       "\n",
       "Market_Segment  Corporate_EU  Corporate_LATAM  Corporate_US  Home Office_APAC  \\\n",
       "Order Date                                                                      \n",
       "2011-01             841.3875       1021.05924      643.3689          230.2656   \n",
       "2011-02            2234.4060        814.03020      421.9256          617.5407   \n",
       "2011-03            2206.5960        178.66400      127.4696          205.1052   \n",
       "2011-04             981.1470        872.64068      494.7315          603.8478   \n",
       "2011-05            1719.0600        134.87252     2912.7976          102.0315   \n",
       "2011-06            2214.9660       3248.31820      447.1375          264.6204   \n",
       "2011-07            1394.9100       -186.83332      648.1498         3261.9522   \n",
       "2011-08            4390.4490        317.83228     1910.2192         2187.2787   \n",
       "2011-09            2704.1565       -523.86568     -262.5736         1221.6693   \n",
       "2011-10             619.8120        954.40508      781.3930          611.0607   \n",
       "\n",
       "Market_Segment  Home Office_Africa  Home Office_Canada  Home Office_EMEA  \\\n",
       "Order Date                                                                 \n",
       "2011-01                    391.515                 NaN           392.526   \n",
       "2011-02                    825.606               87.99           368.070   \n",
       "2011-03                     83.430               84.03           -15.570   \n",
       "2011-04                    417.618                 NaN          -456.510   \n",
       "2011-05                     39.180                 NaN           -33.591   \n",
       "2011-06                   -727.611               23.40           551.208   \n",
       "2011-07                   -318.942                8.40         -2114.334   \n",
       "2011-08                   1999.050                 NaN          -218.802   \n",
       "2011-09                    239.550               18.06           582.318   \n",
       "2011-10                    811.422                 NaN            30.870   \n",
       "\n",
       "Market_Segment  Home Office_EU  Home Office_LATAM  Home Office_US  \n",
       "Order Date                                                         \n",
       "2011-01              2534.5680          -26.59744       1233.9329  \n",
       "2011-02               162.2550         -356.80440        553.9467  \n",
       "2011-03               269.7450          769.88400       -268.9314  \n",
       "2011-04               130.3710         -554.22952       2723.4358  \n",
       "2011-05               443.3100         -397.95600        145.7781  \n",
       "2011-06              1580.4495          324.38564        208.4844  \n",
       "2011-07               463.4070          298.97200       1636.2932  \n",
       "2011-08               350.1180          660.28524        700.9315  \n",
       "2011-09              2891.2710          696.95344        676.0368  \n",
       "2011-10               505.0080          941.76416        215.3313  \n",
       "\n",
       "[10 rows x 21 columns]"
      ]
     },
     "execution_count": 8,
     "metadata": {},
     "output_type": "execute_result"
    }
   ],
   "source": [
    "df = pd.pivot_table(ss_data,index = 'Order Date',values = 'Profit',columns = 'Market_Segment',aggfunc = 'sum')\n",
    "df.head(10)"
   ]
  },
  {
   "cell_type": "code",
   "execution_count": 9,
   "metadata": {},
   "outputs": [],
   "source": [
    "train_len = 42\n",
    "train1 = df[0:train_len] # first 42 months as training set\n",
    "test1 = df[train_len:] # last 6 months as out-of-time test set"
   ]
  },
  {
   "cell_type": "code",
   "execution_count": 10,
   "metadata": {},
   "outputs": [
    {
     "data": {
      "text/plain": [
       "(42, 21)"
      ]
     },
     "execution_count": 10,
     "metadata": {},
     "output_type": "execute_result"
    }
   ],
   "source": [
    "train1.shape"
   ]
  },
  {
   "cell_type": "code",
   "execution_count": 11,
   "metadata": {},
   "outputs": [
    {
     "data": {
      "text/plain": [
       "(6, 21)"
      ]
     },
     "execution_count": 11,
     "metadata": {},
     "output_type": "execute_result"
    }
   ],
   "source": [
    "test1.shape"
   ]
  },
  {
   "cell_type": "code",
   "execution_count": 12,
   "metadata": {},
   "outputs": [
    {
     "data": {
      "text/html": [
       "<div>\n",
       "<style scoped>\n",
       "    .dataframe tbody tr th:only-of-type {\n",
       "        vertical-align: middle;\n",
       "    }\n",
       "\n",
       "    .dataframe tbody tr th {\n",
       "        vertical-align: top;\n",
       "    }\n",
       "\n",
       "    .dataframe thead th {\n",
       "        text-align: right;\n",
       "    }\n",
       "</style>\n",
       "<table border=\"1\" class=\"dataframe\">\n",
       "  <thead>\n",
       "    <tr style=\"text-align: right;\">\n",
       "      <th>Market_Segment</th>\n",
       "      <th>Consumer_APAC</th>\n",
       "      <th>Consumer_Africa</th>\n",
       "      <th>Consumer_Canada</th>\n",
       "      <th>Consumer_EMEA</th>\n",
       "      <th>Consumer_EU</th>\n",
       "      <th>Consumer_LATAM</th>\n",
       "      <th>Consumer_US</th>\n",
       "      <th>Corporate_APAC</th>\n",
       "      <th>Corporate_Africa</th>\n",
       "      <th>Corporate_Canada</th>\n",
       "      <th>...</th>\n",
       "      <th>Corporate_EU</th>\n",
       "      <th>Corporate_LATAM</th>\n",
       "      <th>Corporate_US</th>\n",
       "      <th>Home Office_APAC</th>\n",
       "      <th>Home Office_Africa</th>\n",
       "      <th>Home Office_Canada</th>\n",
       "      <th>Home Office_EMEA</th>\n",
       "      <th>Home Office_EU</th>\n",
       "      <th>Home Office_LATAM</th>\n",
       "      <th>Home Office_US</th>\n",
       "    </tr>\n",
       "    <tr>\n",
       "      <th>Order Date</th>\n",
       "      <th></th>\n",
       "      <th></th>\n",
       "      <th></th>\n",
       "      <th></th>\n",
       "      <th></th>\n",
       "      <th></th>\n",
       "      <th></th>\n",
       "      <th></th>\n",
       "      <th></th>\n",
       "      <th></th>\n",
       "      <th></th>\n",
       "      <th></th>\n",
       "      <th></th>\n",
       "      <th></th>\n",
       "      <th></th>\n",
       "      <th></th>\n",
       "      <th></th>\n",
       "      <th></th>\n",
       "      <th></th>\n",
       "      <th></th>\n",
       "      <th></th>\n",
       "    </tr>\n",
       "  </thead>\n",
       "  <tbody>\n",
       "    <tr>\n",
       "      <th>2011-01</th>\n",
       "      <td>2254.4898</td>\n",
       "      <td>265.539</td>\n",
       "      <td>447.33</td>\n",
       "      <td>-2952.594</td>\n",
       "      <td>2259.8670</td>\n",
       "      <td>540.44312</td>\n",
       "      <td>2465.8368</td>\n",
       "      <td>-173.7264</td>\n",
       "      <td>520.026</td>\n",
       "      <td>12.57</td>\n",
       "      <td>...</td>\n",
       "      <td>841.3875</td>\n",
       "      <td>1021.05924</td>\n",
       "      <td>643.3689</td>\n",
       "      <td>230.2656</td>\n",
       "      <td>391.515</td>\n",
       "      <td>NaN</td>\n",
       "      <td>392.526</td>\n",
       "      <td>2534.568</td>\n",
       "      <td>-26.59744</td>\n",
       "      <td>1233.9329</td>\n",
       "    </tr>\n",
       "    <tr>\n",
       "      <th>2011-02</th>\n",
       "      <td>4627.8531</td>\n",
       "      <td>-201.888</td>\n",
       "      <td>26.43</td>\n",
       "      <td>464.160</td>\n",
       "      <td>-783.9945</td>\n",
       "      <td>1227.86616</td>\n",
       "      <td>1853.5541</td>\n",
       "      <td>3600.7776</td>\n",
       "      <td>-31.689</td>\n",
       "      <td>9.24</td>\n",
       "      <td>...</td>\n",
       "      <td>2234.4060</td>\n",
       "      <td>814.03020</td>\n",
       "      <td>421.9256</td>\n",
       "      <td>617.5407</td>\n",
       "      <td>825.606</td>\n",
       "      <td>87.99</td>\n",
       "      <td>368.070</td>\n",
       "      <td>162.255</td>\n",
       "      <td>-356.80440</td>\n",
       "      <td>553.9467</td>\n",
       "    </tr>\n",
       "    <tr>\n",
       "      <th>2011-03</th>\n",
       "      <td>2337.8319</td>\n",
       "      <td>919.074</td>\n",
       "      <td>82.47</td>\n",
       "      <td>706.380</td>\n",
       "      <td>1273.7100</td>\n",
       "      <td>2427.39612</td>\n",
       "      <td>204.2007</td>\n",
       "      <td>3634.9365</td>\n",
       "      <td>244.437</td>\n",
       "      <td>NaN</td>\n",
       "      <td>...</td>\n",
       "      <td>2206.5960</td>\n",
       "      <td>178.66400</td>\n",
       "      <td>127.4696</td>\n",
       "      <td>205.1052</td>\n",
       "      <td>83.430</td>\n",
       "      <td>84.03</td>\n",
       "      <td>-15.570</td>\n",
       "      <td>269.745</td>\n",
       "      <td>769.88400</td>\n",
       "      <td>-268.9314</td>\n",
       "    </tr>\n",
       "    <tr>\n",
       "      <th>2011-04</th>\n",
       "      <td>633.6423</td>\n",
       "      <td>381.315</td>\n",
       "      <td>55.08</td>\n",
       "      <td>121.353</td>\n",
       "      <td>2980.0065</td>\n",
       "      <td>1368.82948</td>\n",
       "      <td>1434.8636</td>\n",
       "      <td>90.7521</td>\n",
       "      <td>941.751</td>\n",
       "      <td>6.51</td>\n",
       "      <td>...</td>\n",
       "      <td>981.1470</td>\n",
       "      <td>872.64068</td>\n",
       "      <td>494.7315</td>\n",
       "      <td>603.8478</td>\n",
       "      <td>417.618</td>\n",
       "      <td>NaN</td>\n",
       "      <td>-456.510</td>\n",
       "      <td>130.371</td>\n",
       "      <td>-554.22952</td>\n",
       "      <td>2723.4358</td>\n",
       "    </tr>\n",
       "    <tr>\n",
       "      <th>2011-05</th>\n",
       "      <td>3838.9500</td>\n",
       "      <td>-39.981</td>\n",
       "      <td>0.87</td>\n",
       "      <td>172.554</td>\n",
       "      <td>673.0080</td>\n",
       "      <td>1749.39200</td>\n",
       "      <td>833.9433</td>\n",
       "      <td>1028.4489</td>\n",
       "      <td>490.650</td>\n",
       "      <td>NaN</td>\n",
       "      <td>...</td>\n",
       "      <td>1719.0600</td>\n",
       "      <td>134.87252</td>\n",
       "      <td>2912.7976</td>\n",
       "      <td>102.0315</td>\n",
       "      <td>39.180</td>\n",
       "      <td>NaN</td>\n",
       "      <td>-33.591</td>\n",
       "      <td>443.310</td>\n",
       "      <td>-397.95600</td>\n",
       "      <td>145.7781</td>\n",
       "    </tr>\n",
       "  </tbody>\n",
       "</table>\n",
       "<p>5 rows × 21 columns</p>\n",
       "</div>"
      ],
      "text/plain": [
       "Market_Segment  Consumer_APAC  Consumer_Africa  Consumer_Canada  \\\n",
       "Order Date                                                        \n",
       "2011-01             2254.4898          265.539           447.33   \n",
       "2011-02             4627.8531         -201.888            26.43   \n",
       "2011-03             2337.8319          919.074            82.47   \n",
       "2011-04              633.6423          381.315            55.08   \n",
       "2011-05             3838.9500          -39.981             0.87   \n",
       "\n",
       "Market_Segment  Consumer_EMEA  Consumer_EU  Consumer_LATAM  Consumer_US  \\\n",
       "Order Date                                                                \n",
       "2011-01             -2952.594    2259.8670       540.44312    2465.8368   \n",
       "2011-02               464.160    -783.9945      1227.86616    1853.5541   \n",
       "2011-03               706.380    1273.7100      2427.39612     204.2007   \n",
       "2011-04               121.353    2980.0065      1368.82948    1434.8636   \n",
       "2011-05               172.554     673.0080      1749.39200     833.9433   \n",
       "\n",
       "Market_Segment  Corporate_APAC  Corporate_Africa  Corporate_Canada  ...  \\\n",
       "Order Date                                                          ...   \n",
       "2011-01              -173.7264           520.026             12.57  ...   \n",
       "2011-02              3600.7776           -31.689              9.24  ...   \n",
       "2011-03              3634.9365           244.437               NaN  ...   \n",
       "2011-04                90.7521           941.751              6.51  ...   \n",
       "2011-05              1028.4489           490.650               NaN  ...   \n",
       "\n",
       "Market_Segment  Corporate_EU  Corporate_LATAM  Corporate_US  Home Office_APAC  \\\n",
       "Order Date                                                                      \n",
       "2011-01             841.3875       1021.05924      643.3689          230.2656   \n",
       "2011-02            2234.4060        814.03020      421.9256          617.5407   \n",
       "2011-03            2206.5960        178.66400      127.4696          205.1052   \n",
       "2011-04             981.1470        872.64068      494.7315          603.8478   \n",
       "2011-05            1719.0600        134.87252     2912.7976          102.0315   \n",
       "\n",
       "Market_Segment  Home Office_Africa  Home Office_Canada  Home Office_EMEA  \\\n",
       "Order Date                                                                 \n",
       "2011-01                    391.515                 NaN           392.526   \n",
       "2011-02                    825.606               87.99           368.070   \n",
       "2011-03                     83.430               84.03           -15.570   \n",
       "2011-04                    417.618                 NaN          -456.510   \n",
       "2011-05                     39.180                 NaN           -33.591   \n",
       "\n",
       "Market_Segment  Home Office_EU  Home Office_LATAM  Home Office_US  \n",
       "Order Date                                                         \n",
       "2011-01               2534.568          -26.59744       1233.9329  \n",
       "2011-02                162.255         -356.80440        553.9467  \n",
       "2011-03                269.745          769.88400       -268.9314  \n",
       "2011-04                130.371         -554.22952       2723.4358  \n",
       "2011-05                443.310         -397.95600        145.7781  \n",
       "\n",
       "[5 rows x 21 columns]"
      ]
     },
     "execution_count": 12,
     "metadata": {},
     "output_type": "execute_result"
    }
   ],
   "source": [
    "train1.head()"
   ]
  },
  {
   "cell_type": "code",
   "execution_count": 13,
   "metadata": {},
   "outputs": [
    {
     "data": {
      "text/html": [
       "<div>\n",
       "<style scoped>\n",
       "    .dataframe tbody tr th:only-of-type {\n",
       "        vertical-align: middle;\n",
       "    }\n",
       "\n",
       "    .dataframe tbody tr th {\n",
       "        vertical-align: top;\n",
       "    }\n",
       "\n",
       "    .dataframe thead th {\n",
       "        text-align: right;\n",
       "    }\n",
       "</style>\n",
       "<table border=\"1\" class=\"dataframe\">\n",
       "  <thead>\n",
       "    <tr style=\"text-align: right;\">\n",
       "      <th>Market_Segment</th>\n",
       "      <th>Consumer_APAC</th>\n",
       "      <th>Consumer_Africa</th>\n",
       "      <th>Consumer_Canada</th>\n",
       "      <th>Consumer_EMEA</th>\n",
       "      <th>Consumer_EU</th>\n",
       "      <th>Consumer_LATAM</th>\n",
       "      <th>Consumer_US</th>\n",
       "      <th>Corporate_APAC</th>\n",
       "      <th>Corporate_Africa</th>\n",
       "      <th>Corporate_Canada</th>\n",
       "      <th>...</th>\n",
       "      <th>Corporate_EU</th>\n",
       "      <th>Corporate_LATAM</th>\n",
       "      <th>Corporate_US</th>\n",
       "      <th>Home Office_APAC</th>\n",
       "      <th>Home Office_Africa</th>\n",
       "      <th>Home Office_Canada</th>\n",
       "      <th>Home Office_EMEA</th>\n",
       "      <th>Home Office_EU</th>\n",
       "      <th>Home Office_LATAM</th>\n",
       "      <th>Home Office_US</th>\n",
       "    </tr>\n",
       "    <tr>\n",
       "      <th>Order Date</th>\n",
       "      <th></th>\n",
       "      <th></th>\n",
       "      <th></th>\n",
       "      <th></th>\n",
       "      <th></th>\n",
       "      <th></th>\n",
       "      <th></th>\n",
       "      <th></th>\n",
       "      <th></th>\n",
       "      <th></th>\n",
       "      <th></th>\n",
       "      <th></th>\n",
       "      <th></th>\n",
       "      <th></th>\n",
       "      <th></th>\n",
       "      <th></th>\n",
       "      <th></th>\n",
       "      <th></th>\n",
       "      <th></th>\n",
       "      <th></th>\n",
       "      <th></th>\n",
       "    </tr>\n",
       "  </thead>\n",
       "  <tbody>\n",
       "    <tr>\n",
       "      <th>2014-07</th>\n",
       "      <td>1415.0049</td>\n",
       "      <td>472.287</td>\n",
       "      <td>NaN</td>\n",
       "      <td>463.194</td>\n",
       "      <td>4224.1095</td>\n",
       "      <td>126.17668</td>\n",
       "      <td>1171.6925</td>\n",
       "      <td>3330.4251</td>\n",
       "      <td>389.322</td>\n",
       "      <td>65.10</td>\n",
       "      <td>...</td>\n",
       "      <td>3842.6700</td>\n",
       "      <td>1333.21772</td>\n",
       "      <td>2941.9503</td>\n",
       "      <td>2642.6874</td>\n",
       "      <td>795.960</td>\n",
       "      <td>10.80</td>\n",
       "      <td>1530.378</td>\n",
       "      <td>-1625.1780</td>\n",
       "      <td>1443.44916</td>\n",
       "      <td>1587.7943</td>\n",
       "    </tr>\n",
       "    <tr>\n",
       "      <th>2014-08</th>\n",
       "      <td>4405.5609</td>\n",
       "      <td>1848.834</td>\n",
       "      <td>617.01</td>\n",
       "      <td>1485.804</td>\n",
       "      <td>7316.4210</td>\n",
       "      <td>5135.04420</td>\n",
       "      <td>2806.9233</td>\n",
       "      <td>1623.9069</td>\n",
       "      <td>112.041</td>\n",
       "      <td>58.95</td>\n",
       "      <td>...</td>\n",
       "      <td>8370.2250</td>\n",
       "      <td>489.52444</td>\n",
       "      <td>3284.5880</td>\n",
       "      <td>1059.0081</td>\n",
       "      <td>1717.773</td>\n",
       "      <td>110.22</td>\n",
       "      <td>423.114</td>\n",
       "      <td>1471.8645</td>\n",
       "      <td>1142.49640</td>\n",
       "      <td>1168.9436</td>\n",
       "    </tr>\n",
       "    <tr>\n",
       "      <th>2014-09</th>\n",
       "      <td>4342.6419</td>\n",
       "      <td>2915.433</td>\n",
       "      <td>25.20</td>\n",
       "      <td>2444.796</td>\n",
       "      <td>5405.8485</td>\n",
       "      <td>4382.15812</td>\n",
       "      <td>4401.4550</td>\n",
       "      <td>4419.9804</td>\n",
       "      <td>350.439</td>\n",
       "      <td>128.04</td>\n",
       "      <td>...</td>\n",
       "      <td>4341.1080</td>\n",
       "      <td>1914.78796</td>\n",
       "      <td>5156.8145</td>\n",
       "      <td>7389.1881</td>\n",
       "      <td>499.089</td>\n",
       "      <td>63.48</td>\n",
       "      <td>-471.552</td>\n",
       "      <td>880.9695</td>\n",
       "      <td>1428.99836</td>\n",
       "      <td>2788.8755</td>\n",
       "    </tr>\n",
       "    <tr>\n",
       "      <th>2014-10</th>\n",
       "      <td>7997.8092</td>\n",
       "      <td>745.929</td>\n",
       "      <td>3.30</td>\n",
       "      <td>2005.428</td>\n",
       "      <td>6641.0205</td>\n",
       "      <td>4068.74672</td>\n",
       "      <td>2515.7175</td>\n",
       "      <td>4371.8221</td>\n",
       "      <td>2501.847</td>\n",
       "      <td>390.51</td>\n",
       "      <td>...</td>\n",
       "      <td>4256.6745</td>\n",
       "      <td>2687.02280</td>\n",
       "      <td>2505.4306</td>\n",
       "      <td>4151.0742</td>\n",
       "      <td>-1130.139</td>\n",
       "      <td>NaN</td>\n",
       "      <td>337.764</td>\n",
       "      <td>1480.4205</td>\n",
       "      <td>2149.39528</td>\n",
       "      <td>4104.2505</td>\n",
       "    </tr>\n",
       "    <tr>\n",
       "      <th>2014-11</th>\n",
       "      <td>13773.4995</td>\n",
       "      <td>1689.360</td>\n",
       "      <td>236.13</td>\n",
       "      <td>432.399</td>\n",
       "      <td>1635.9270</td>\n",
       "      <td>4208.42260</td>\n",
       "      <td>5981.7104</td>\n",
       "      <td>5588.2947</td>\n",
       "      <td>-381.669</td>\n",
       "      <td>104.13</td>\n",
       "      <td>...</td>\n",
       "      <td>5266.0665</td>\n",
       "      <td>1813.60880</td>\n",
       "      <td>2812.3922</td>\n",
       "      <td>3526.9944</td>\n",
       "      <td>2001.189</td>\n",
       "      <td>86.64</td>\n",
       "      <td>837.063</td>\n",
       "      <td>3157.5615</td>\n",
       "      <td>1342.24256</td>\n",
       "      <td>493.4159</td>\n",
       "    </tr>\n",
       "  </tbody>\n",
       "</table>\n",
       "<p>5 rows × 21 columns</p>\n",
       "</div>"
      ],
      "text/plain": [
       "Market_Segment  Consumer_APAC  Consumer_Africa  Consumer_Canada  \\\n",
       "Order Date                                                        \n",
       "2014-07             1415.0049          472.287              NaN   \n",
       "2014-08             4405.5609         1848.834           617.01   \n",
       "2014-09             4342.6419         2915.433            25.20   \n",
       "2014-10             7997.8092          745.929             3.30   \n",
       "2014-11            13773.4995         1689.360           236.13   \n",
       "\n",
       "Market_Segment  Consumer_EMEA  Consumer_EU  Consumer_LATAM  Consumer_US  \\\n",
       "Order Date                                                                \n",
       "2014-07               463.194    4224.1095       126.17668    1171.6925   \n",
       "2014-08              1485.804    7316.4210      5135.04420    2806.9233   \n",
       "2014-09              2444.796    5405.8485      4382.15812    4401.4550   \n",
       "2014-10              2005.428    6641.0205      4068.74672    2515.7175   \n",
       "2014-11               432.399    1635.9270      4208.42260    5981.7104   \n",
       "\n",
       "Market_Segment  Corporate_APAC  Corporate_Africa  Corporate_Canada  ...  \\\n",
       "Order Date                                                          ...   \n",
       "2014-07              3330.4251           389.322             65.10  ...   \n",
       "2014-08              1623.9069           112.041             58.95  ...   \n",
       "2014-09              4419.9804           350.439            128.04  ...   \n",
       "2014-10              4371.8221          2501.847            390.51  ...   \n",
       "2014-11              5588.2947          -381.669            104.13  ...   \n",
       "\n",
       "Market_Segment  Corporate_EU  Corporate_LATAM  Corporate_US  Home Office_APAC  \\\n",
       "Order Date                                                                      \n",
       "2014-07            3842.6700       1333.21772     2941.9503         2642.6874   \n",
       "2014-08            8370.2250        489.52444     3284.5880         1059.0081   \n",
       "2014-09            4341.1080       1914.78796     5156.8145         7389.1881   \n",
       "2014-10            4256.6745       2687.02280     2505.4306         4151.0742   \n",
       "2014-11            5266.0665       1813.60880     2812.3922         3526.9944   \n",
       "\n",
       "Market_Segment  Home Office_Africa  Home Office_Canada  Home Office_EMEA  \\\n",
       "Order Date                                                                 \n",
       "2014-07                    795.960               10.80          1530.378   \n",
       "2014-08                   1717.773              110.22           423.114   \n",
       "2014-09                    499.089               63.48          -471.552   \n",
       "2014-10                  -1130.139                 NaN           337.764   \n",
       "2014-11                   2001.189               86.64           837.063   \n",
       "\n",
       "Market_Segment  Home Office_EU  Home Office_LATAM  Home Office_US  \n",
       "Order Date                                                         \n",
       "2014-07             -1625.1780         1443.44916       1587.7943  \n",
       "2014-08              1471.8645         1142.49640       1168.9436  \n",
       "2014-09               880.9695         1428.99836       2788.8755  \n",
       "2014-10              1480.4205         2149.39528       4104.2505  \n",
       "2014-11              3157.5615         1342.24256        493.4159  \n",
       "\n",
       "[5 rows x 21 columns]"
      ]
     },
     "execution_count": 13,
     "metadata": {},
     "output_type": "execute_result"
    }
   ],
   "source": [
    "test1.head()"
   ]
  },
  {
   "cell_type": "code",
   "execution_count": 14,
   "metadata": {},
   "outputs": [
    {
     "data": {
      "text/html": [
       "<div>\n",
       "<style scoped>\n",
       "    .dataframe tbody tr th:only-of-type {\n",
       "        vertical-align: middle;\n",
       "    }\n",
       "\n",
       "    .dataframe tbody tr th {\n",
       "        vertical-align: top;\n",
       "    }\n",
       "\n",
       "    .dataframe thead th {\n",
       "        text-align: right;\n",
       "    }\n",
       "</style>\n",
       "<table border=\"1\" class=\"dataframe\">\n",
       "  <thead>\n",
       "    <tr style=\"text-align: right;\">\n",
       "      <th></th>\n",
       "      <th>Profit_mean</th>\n",
       "      <th>Profit_std</th>\n",
       "      <th>COV</th>\n",
       "    </tr>\n",
       "    <tr>\n",
       "      <th>Market_Segment</th>\n",
       "      <th></th>\n",
       "      <th></th>\n",
       "      <th></th>\n",
       "    </tr>\n",
       "  </thead>\n",
       "  <tbody>\n",
       "    <tr>\n",
       "      <th>Consumer_APAC</th>\n",
       "      <td>4400.894243</td>\n",
       "      <td>2300.457687</td>\n",
       "      <td>0.522725</td>\n",
       "    </tr>\n",
       "    <tr>\n",
       "      <th>Corporate_APAC</th>\n",
       "      <td>2574.919807</td>\n",
       "      <td>1364.837734</td>\n",
       "      <td>0.530051</td>\n",
       "    </tr>\n",
       "    <tr>\n",
       "      <th>Consumer_EU</th>\n",
       "      <td>3699.977143</td>\n",
       "      <td>2202.282289</td>\n",
       "      <td>0.595215</td>\n",
       "    </tr>\n",
       "    <tr>\n",
       "      <th>Consumer_LATAM</th>\n",
       "      <td>2295.555697</td>\n",
       "      <td>1569.632686</td>\n",
       "      <td>0.683770</td>\n",
       "    </tr>\n",
       "    <tr>\n",
       "      <th>Corporate_EU</th>\n",
       "      <td>2216.299429</td>\n",
       "      <td>1600.336696</td>\n",
       "      <td>0.722076</td>\n",
       "    </tr>\n",
       "    <tr>\n",
       "      <th>Corporate_LATAM</th>\n",
       "      <td>1122.633016</td>\n",
       "      <td>990.360880</td>\n",
       "      <td>0.882177</td>\n",
       "    </tr>\n",
       "    <tr>\n",
       "      <th>Home Office_EU</th>\n",
       "      <td>1224.456536</td>\n",
       "      <td>1148.627937</td>\n",
       "      <td>0.938072</td>\n",
       "    </tr>\n",
       "    <tr>\n",
       "      <th>Home Office_APAC</th>\n",
       "      <td>1511.088314</td>\n",
       "      <td>1523.508658</td>\n",
       "      <td>1.008219</td>\n",
       "    </tr>\n",
       "    <tr>\n",
       "      <th>Consumer_US</th>\n",
       "      <td>2686.740912</td>\n",
       "      <td>2715.031412</td>\n",
       "      <td>1.010530</td>\n",
       "    </tr>\n",
       "    <tr>\n",
       "      <th>Corporate_US</th>\n",
       "      <td>1754.199083</td>\n",
       "      <td>1880.200775</td>\n",
       "      <td>1.071829</td>\n",
       "    </tr>\n",
       "    <tr>\n",
       "      <th>Home Office_US</th>\n",
       "      <td>1132.065762</td>\n",
       "      <td>1272.476439</td>\n",
       "      <td>1.124030</td>\n",
       "    </tr>\n",
       "    <tr>\n",
       "      <th>Home Office_LATAM</th>\n",
       "      <td>818.398941</td>\n",
       "      <td>957.275713</td>\n",
       "      <td>1.169693</td>\n",
       "    </tr>\n",
       "    <tr>\n",
       "      <th>Consumer_Canada</th>\n",
       "      <td>225.987632</td>\n",
       "      <td>282.555788</td>\n",
       "      <td>1.250315</td>\n",
       "    </tr>\n",
       "    <tr>\n",
       "      <th>Consumer_Africa</th>\n",
       "      <td>957.707000</td>\n",
       "      <td>1254.932072</td>\n",
       "      <td>1.310351</td>\n",
       "    </tr>\n",
       "    <tr>\n",
       "      <th>Corporate_Canada</th>\n",
       "      <td>90.980294</td>\n",
       "      <td>162.493114</td>\n",
       "      <td>1.786025</td>\n",
       "    </tr>\n",
       "    <tr>\n",
       "      <th>Corporate_Africa</th>\n",
       "      <td>412.617571</td>\n",
       "      <td>780.566850</td>\n",
       "      <td>1.891744</td>\n",
       "    </tr>\n",
       "    <tr>\n",
       "      <th>Home Office_Africa</th>\n",
       "      <td>377.221071</td>\n",
       "      <td>759.322203</td>\n",
       "      <td>2.012937</td>\n",
       "    </tr>\n",
       "    <tr>\n",
       "      <th>Home Office_Canada</th>\n",
       "      <td>118.003750</td>\n",
       "      <td>279.632866</td>\n",
       "      <td>2.369695</td>\n",
       "    </tr>\n",
       "    <tr>\n",
       "      <th>Consumer_EMEA</th>\n",
       "      <td>423.960286</td>\n",
       "      <td>1124.552711</td>\n",
       "      <td>2.652495</td>\n",
       "    </tr>\n",
       "    <tr>\n",
       "      <th>Corporate_EMEA</th>\n",
       "      <td>182.642643</td>\n",
       "      <td>1160.698430</td>\n",
       "      <td>6.355024</td>\n",
       "    </tr>\n",
       "    <tr>\n",
       "      <th>Home Office_EMEA</th>\n",
       "      <td>84.231366</td>\n",
       "      <td>651.283095</td>\n",
       "      <td>7.732073</td>\n",
       "    </tr>\n",
       "  </tbody>\n",
       "</table>\n",
       "</div>"
      ],
      "text/plain": [
       "                    Profit_mean   Profit_std       COV\n",
       "Market_Segment                                        \n",
       "Consumer_APAC       4400.894243  2300.457687  0.522725\n",
       "Corporate_APAC      2574.919807  1364.837734  0.530051\n",
       "Consumer_EU         3699.977143  2202.282289  0.595215\n",
       "Consumer_LATAM      2295.555697  1569.632686  0.683770\n",
       "Corporate_EU        2216.299429  1600.336696  0.722076\n",
       "Corporate_LATAM     1122.633016   990.360880  0.882177\n",
       "Home Office_EU      1224.456536  1148.627937  0.938072\n",
       "Home Office_APAC    1511.088314  1523.508658  1.008219\n",
       "Consumer_US         2686.740912  2715.031412  1.010530\n",
       "Corporate_US        1754.199083  1880.200775  1.071829\n",
       "Home Office_US      1132.065762  1272.476439  1.124030\n",
       "Home Office_LATAM    818.398941   957.275713  1.169693\n",
       "Consumer_Canada      225.987632   282.555788  1.250315\n",
       "Consumer_Africa      957.707000  1254.932072  1.310351\n",
       "Corporate_Canada      90.980294   162.493114  1.786025\n",
       "Corporate_Africa     412.617571   780.566850  1.891744\n",
       "Home Office_Africa   377.221071   759.322203  2.012937\n",
       "Home Office_Canada   118.003750   279.632866  2.369695\n",
       "Consumer_EMEA        423.960286  1124.552711  2.652495\n",
       "Corporate_EMEA       182.642643  1160.698430  6.355024\n",
       "Home Office_EMEA      84.231366   651.283095  7.732073"
      ]
     },
     "execution_count": 14,
     "metadata": {},
     "output_type": "execute_result"
    }
   ],
   "source": [
    "# Calculating COV for the \"Profit\" column\n",
    "\n",
    "cov_data = pd.DataFrame(train1.mean())\n",
    "cov_data = cov_data.rename(columns={0 : 'Profit_mean'})\n",
    "cov_data['Profit_std'] = np.std(train1)\n",
    "cov_data['COV'] = np.std(train1)/train1.mean()\n",
    "cov_data.sort_values(by ='COV')"
   ]
  },
  {
   "cell_type": "markdown",
   "metadata": {},
   "source": [
    "Lower the COV value higher the profit of the segment.\n",
    "\n",
    "Hence \"Consumer_APAC\" is the Most Profitable segment with COV value 0.522725."
   ]
  },
  {
   "cell_type": "markdown",
   "metadata": {},
   "source": [
    "## Step-2: Build and evaluate time series forecast"
   ]
  },
  {
   "cell_type": "code",
   "execution_count": 15,
   "metadata": {},
   "outputs": [
    {
     "data": {
      "text/html": [
       "<div>\n",
       "<style scoped>\n",
       "    .dataframe tbody tr th:only-of-type {\n",
       "        vertical-align: middle;\n",
       "    }\n",
       "\n",
       "    .dataframe tbody tr th {\n",
       "        vertical-align: top;\n",
       "    }\n",
       "\n",
       "    .dataframe thead th {\n",
       "        text-align: right;\n",
       "    }\n",
       "</style>\n",
       "<table border=\"1\" class=\"dataframe\">\n",
       "  <thead>\n",
       "    <tr style=\"text-align: right;\">\n",
       "      <th></th>\n",
       "      <th>Order Date</th>\n",
       "      <th>Segment</th>\n",
       "      <th>Market</th>\n",
       "      <th>Sales</th>\n",
       "      <th>Profit</th>\n",
       "      <th>Market_Segment</th>\n",
       "    </tr>\n",
       "  </thead>\n",
       "  <tbody>\n",
       "    <tr>\n",
       "      <th>15262</th>\n",
       "      <td>2011-01</td>\n",
       "      <td>Corporate</td>\n",
       "      <td>EU</td>\n",
       "      <td>139.6500</td>\n",
       "      <td>15.3000</td>\n",
       "      <td>Corporate_EU</td>\n",
       "    </tr>\n",
       "    <tr>\n",
       "      <th>26744</th>\n",
       "      <td>2011-01</td>\n",
       "      <td>Consumer</td>\n",
       "      <td>EU</td>\n",
       "      <td>88.4400</td>\n",
       "      <td>15.8400</td>\n",
       "      <td>Consumer_EU</td>\n",
       "    </tr>\n",
       "    <tr>\n",
       "      <th>48614</th>\n",
       "      <td>2011-01</td>\n",
       "      <td>Corporate</td>\n",
       "      <td>EU</td>\n",
       "      <td>11.4300</td>\n",
       "      <td>4.1100</td>\n",
       "      <td>Corporate_EU</td>\n",
       "    </tr>\n",
       "    <tr>\n",
       "      <th>9417</th>\n",
       "      <td>2011-01</td>\n",
       "      <td>Consumer</td>\n",
       "      <td>LATAM</td>\n",
       "      <td>491.0000</td>\n",
       "      <td>122.7000</td>\n",
       "      <td>Consumer_LATAM</td>\n",
       "    </tr>\n",
       "    <tr>\n",
       "      <th>48590</th>\n",
       "      <td>2011-01</td>\n",
       "      <td>Home Office</td>\n",
       "      <td>US</td>\n",
       "      <td>4.7100</td>\n",
       "      <td>0.0000</td>\n",
       "      <td>Home Office_US</td>\n",
       "    </tr>\n",
       "    <tr>\n",
       "      <th>...</th>\n",
       "      <td>...</td>\n",
       "      <td>...</td>\n",
       "      <td>...</td>\n",
       "      <td>...</td>\n",
       "      <td>...</td>\n",
       "      <td>...</td>\n",
       "    </tr>\n",
       "    <tr>\n",
       "      <th>26850</th>\n",
       "      <td>2014-12</td>\n",
       "      <td>Corporate</td>\n",
       "      <td>EMEA</td>\n",
       "      <td>42.9600</td>\n",
       "      <td>5.0400</td>\n",
       "      <td>Corporate_EMEA</td>\n",
       "    </tr>\n",
       "    <tr>\n",
       "      <th>19243</th>\n",
       "      <td>2014-12</td>\n",
       "      <td>Consumer</td>\n",
       "      <td>EMEA</td>\n",
       "      <td>80.7360</td>\n",
       "      <td>-117.1440</td>\n",
       "      <td>Consumer_EMEA</td>\n",
       "    </tr>\n",
       "    <tr>\n",
       "      <th>7829</th>\n",
       "      <td>2014-12</td>\n",
       "      <td>Consumer</td>\n",
       "      <td>APAC</td>\n",
       "      <td>608.5800</td>\n",
       "      <td>0.0000</td>\n",
       "      <td>Consumer_APAC</td>\n",
       "    </tr>\n",
       "    <tr>\n",
       "      <th>21163</th>\n",
       "      <td>2014-12</td>\n",
       "      <td>Consumer</td>\n",
       "      <td>APAC</td>\n",
       "      <td>185.0688</td>\n",
       "      <td>-102.8712</td>\n",
       "      <td>Consumer_APAC</td>\n",
       "    </tr>\n",
       "    <tr>\n",
       "      <th>541</th>\n",
       "      <td>2014-12</td>\n",
       "      <td>Consumer</td>\n",
       "      <td>LATAM</td>\n",
       "      <td>664.5600</td>\n",
       "      <td>6.6000</td>\n",
       "      <td>Consumer_LATAM</td>\n",
       "    </tr>\n",
       "  </tbody>\n",
       "</table>\n",
       "<p>51290 rows × 6 columns</p>\n",
       "</div>"
      ],
      "text/plain": [
       "      Order Date      Segment Market     Sales    Profit  Market_Segment\n",
       "15262    2011-01    Corporate     EU  139.6500   15.3000    Corporate_EU\n",
       "26744    2011-01     Consumer     EU   88.4400   15.8400     Consumer_EU\n",
       "48614    2011-01    Corporate     EU   11.4300    4.1100    Corporate_EU\n",
       "9417     2011-01     Consumer  LATAM  491.0000  122.7000  Consumer_LATAM\n",
       "48590    2011-01  Home Office     US    4.7100    0.0000  Home Office_US\n",
       "...          ...          ...    ...       ...       ...             ...\n",
       "26850    2014-12    Corporate   EMEA   42.9600    5.0400  Corporate_EMEA\n",
       "19243    2014-12     Consumer   EMEA   80.7360 -117.1440   Consumer_EMEA\n",
       "7829     2014-12     Consumer   APAC  608.5800    0.0000   Consumer_APAC\n",
       "21163    2014-12     Consumer   APAC  185.0688 -102.8712   Consumer_APAC\n",
       "541      2014-12     Consumer  LATAM  664.5600    6.6000  Consumer_LATAM\n",
       "\n",
       "[51290 rows x 6 columns]"
      ]
     },
     "execution_count": 15,
     "metadata": {},
     "output_type": "execute_result"
    }
   ],
   "source": [
    "ss_data"
   ]
  },
  {
   "cell_type": "code",
   "execution_count": 16,
   "metadata": {},
   "outputs": [],
   "source": [
    "# Extracting the most profitable segment i.e \"Consumer_APAC\"\n",
    "\n",
    "ss_data1 = ss_data[ss_data.Market_Segment == \"Consumer_APAC\"]"
   ]
  },
  {
   "cell_type": "code",
   "execution_count": 17,
   "metadata": {},
   "outputs": [
    {
     "data": {
      "text/html": [
       "<div>\n",
       "<style scoped>\n",
       "    .dataframe tbody tr th:only-of-type {\n",
       "        vertical-align: middle;\n",
       "    }\n",
       "\n",
       "    .dataframe tbody tr th {\n",
       "        vertical-align: top;\n",
       "    }\n",
       "\n",
       "    .dataframe thead th {\n",
       "        text-align: right;\n",
       "    }\n",
       "</style>\n",
       "<table border=\"1\" class=\"dataframe\">\n",
       "  <thead>\n",
       "    <tr style=\"text-align: right;\">\n",
       "      <th></th>\n",
       "      <th>Order Date</th>\n",
       "      <th>Segment</th>\n",
       "      <th>Market</th>\n",
       "      <th>Sales</th>\n",
       "      <th>Profit</th>\n",
       "      <th>Market_Segment</th>\n",
       "    </tr>\n",
       "  </thead>\n",
       "  <tbody>\n",
       "    <tr>\n",
       "      <th>1080</th>\n",
       "      <td>2011-01</td>\n",
       "      <td>Consumer</td>\n",
       "      <td>APAC</td>\n",
       "      <td>1429.0500</td>\n",
       "      <td>371.4900</td>\n",
       "      <td>Consumer_APAC</td>\n",
       "    </tr>\n",
       "    <tr>\n",
       "      <th>9203</th>\n",
       "      <td>2011-01</td>\n",
       "      <td>Consumer</td>\n",
       "      <td>APAC</td>\n",
       "      <td>219.7800</td>\n",
       "      <td>59.3400</td>\n",
       "      <td>Consumer_APAC</td>\n",
       "    </tr>\n",
       "    <tr>\n",
       "      <th>19331</th>\n",
       "      <td>2011-01</td>\n",
       "      <td>Consumer</td>\n",
       "      <td>APAC</td>\n",
       "      <td>342.5100</td>\n",
       "      <td>54.6000</td>\n",
       "      <td>Consumer_APAC</td>\n",
       "    </tr>\n",
       "    <tr>\n",
       "      <th>26270</th>\n",
       "      <td>2011-01</td>\n",
       "      <td>Consumer</td>\n",
       "      <td>APAC</td>\n",
       "      <td>102.7620</td>\n",
       "      <td>1.8420</td>\n",
       "      <td>Consumer_APAC</td>\n",
       "    </tr>\n",
       "    <tr>\n",
       "      <th>14830</th>\n",
       "      <td>2011-01</td>\n",
       "      <td>Consumer</td>\n",
       "      <td>APAC</td>\n",
       "      <td>420.4200</td>\n",
       "      <td>147.0000</td>\n",
       "      <td>Consumer_APAC</td>\n",
       "    </tr>\n",
       "    <tr>\n",
       "      <th>...</th>\n",
       "      <td>...</td>\n",
       "      <td>...</td>\n",
       "      <td>...</td>\n",
       "      <td>...</td>\n",
       "      <td>...</td>\n",
       "      <td>...</td>\n",
       "    </tr>\n",
       "    <tr>\n",
       "      <th>11002</th>\n",
       "      <td>2014-12</td>\n",
       "      <td>Consumer</td>\n",
       "      <td>APAC</td>\n",
       "      <td>243.6840</td>\n",
       "      <td>-89.3760</td>\n",
       "      <td>Consumer_APAC</td>\n",
       "    </tr>\n",
       "    <tr>\n",
       "      <th>42899</th>\n",
       "      <td>2014-12</td>\n",
       "      <td>Consumer</td>\n",
       "      <td>APAC</td>\n",
       "      <td>39.0000</td>\n",
       "      <td>7.3800</td>\n",
       "      <td>Consumer_APAC</td>\n",
       "    </tr>\n",
       "    <tr>\n",
       "      <th>30816</th>\n",
       "      <td>2014-12</td>\n",
       "      <td>Consumer</td>\n",
       "      <td>APAC</td>\n",
       "      <td>100.4964</td>\n",
       "      <td>-12.1836</td>\n",
       "      <td>Consumer_APAC</td>\n",
       "    </tr>\n",
       "    <tr>\n",
       "      <th>7829</th>\n",
       "      <td>2014-12</td>\n",
       "      <td>Consumer</td>\n",
       "      <td>APAC</td>\n",
       "      <td>608.5800</td>\n",
       "      <td>0.0000</td>\n",
       "      <td>Consumer_APAC</td>\n",
       "    </tr>\n",
       "    <tr>\n",
       "      <th>21163</th>\n",
       "      <td>2014-12</td>\n",
       "      <td>Consumer</td>\n",
       "      <td>APAC</td>\n",
       "      <td>185.0688</td>\n",
       "      <td>-102.8712</td>\n",
       "      <td>Consumer_APAC</td>\n",
       "    </tr>\n",
       "  </tbody>\n",
       "</table>\n",
       "<p>5699 rows × 6 columns</p>\n",
       "</div>"
      ],
      "text/plain": [
       "      Order Date   Segment Market      Sales    Profit Market_Segment\n",
       "1080     2011-01  Consumer   APAC  1429.0500  371.4900  Consumer_APAC\n",
       "9203     2011-01  Consumer   APAC   219.7800   59.3400  Consumer_APAC\n",
       "19331    2011-01  Consumer   APAC   342.5100   54.6000  Consumer_APAC\n",
       "26270    2011-01  Consumer   APAC   102.7620    1.8420  Consumer_APAC\n",
       "14830    2011-01  Consumer   APAC   420.4200  147.0000  Consumer_APAC\n",
       "...          ...       ...    ...        ...       ...            ...\n",
       "11002    2014-12  Consumer   APAC   243.6840  -89.3760  Consumer_APAC\n",
       "42899    2014-12  Consumer   APAC    39.0000    7.3800  Consumer_APAC\n",
       "30816    2014-12  Consumer   APAC   100.4964  -12.1836  Consumer_APAC\n",
       "7829     2014-12  Consumer   APAC   608.5800    0.0000  Consumer_APAC\n",
       "21163    2014-12  Consumer   APAC   185.0688 -102.8712  Consumer_APAC\n",
       "\n",
       "[5699 rows x 6 columns]"
      ]
     },
     "execution_count": 17,
     "metadata": {},
     "output_type": "execute_result"
    }
   ],
   "source": [
    "ss_data1"
   ]
  },
  {
   "cell_type": "code",
   "execution_count": 18,
   "metadata": {},
   "outputs": [],
   "source": [
    "# Converting \"Order Date\" to Timestamp for furthur forecasting\n",
    "\n",
    "ss_data['Order Date'] = ss_data[\"Order Date\"].values.astype('datetime64[M]')"
   ]
  },
  {
   "cell_type": "code",
   "execution_count": 19,
   "metadata": {},
   "outputs": [
    {
     "name": "stdout",
     "output_type": "stream",
     "text": [
      "<class 'pandas.core.frame.DataFrame'>\n",
      "Int64Index: 51290 entries, 15262 to 541\n",
      "Data columns (total 6 columns):\n",
      " #   Column          Non-Null Count  Dtype         \n",
      "---  ------          --------------  -----         \n",
      " 0   Order Date      51290 non-null  datetime64[ns]\n",
      " 1   Segment         51290 non-null  object        \n",
      " 2   Market          51290 non-null  object        \n",
      " 3   Sales           51290 non-null  float64       \n",
      " 4   Profit          51290 non-null  float64       \n",
      " 5   Market_Segment  51290 non-null  object        \n",
      "dtypes: datetime64[ns](1), float64(2), object(3)\n",
      "memory usage: 2.7+ MB\n"
     ]
    }
   ],
   "source": [
    "ss_data.info()"
   ]
  },
  {
   "cell_type": "code",
   "execution_count": 20,
   "metadata": {},
   "outputs": [],
   "source": [
    "# Grouping the Data by \"Order Date\" and aggregating on sum of \"Sales\"\n",
    "\n",
    "ss_data1 = ss_data.groupby('Order Date').agg({'Sales': 'sum'})"
   ]
  },
  {
   "cell_type": "code",
   "execution_count": 21,
   "metadata": {},
   "outputs": [
    {
     "data": {
      "text/html": [
       "<div>\n",
       "<style scoped>\n",
       "    .dataframe tbody tr th:only-of-type {\n",
       "        vertical-align: middle;\n",
       "    }\n",
       "\n",
       "    .dataframe tbody tr th {\n",
       "        vertical-align: top;\n",
       "    }\n",
       "\n",
       "    .dataframe thead th {\n",
       "        text-align: right;\n",
       "    }\n",
       "</style>\n",
       "<table border=\"1\" class=\"dataframe\">\n",
       "  <thead>\n",
       "    <tr style=\"text-align: right;\">\n",
       "      <th></th>\n",
       "      <th>Sales</th>\n",
       "    </tr>\n",
       "    <tr>\n",
       "      <th>Order Date</th>\n",
       "      <th></th>\n",
       "    </tr>\n",
       "  </thead>\n",
       "  <tbody>\n",
       "    <tr>\n",
       "      <th>2011-01-01</th>\n",
       "      <td>138241.30042</td>\n",
       "    </tr>\n",
       "    <tr>\n",
       "      <th>2011-02-01</th>\n",
       "      <td>134969.94086</td>\n",
       "    </tr>\n",
       "    <tr>\n",
       "      <th>2011-03-01</th>\n",
       "      <td>171455.59372</td>\n",
       "    </tr>\n",
       "    <tr>\n",
       "      <th>2011-04-01</th>\n",
       "      <td>128833.47034</td>\n",
       "    </tr>\n",
       "    <tr>\n",
       "      <th>2011-05-01</th>\n",
       "      <td>148146.72092</td>\n",
       "    </tr>\n",
       "  </tbody>\n",
       "</table>\n",
       "</div>"
      ],
      "text/plain": [
       "                   Sales\n",
       "Order Date              \n",
       "2011-01-01  138241.30042\n",
       "2011-02-01  134969.94086\n",
       "2011-03-01  171455.59372\n",
       "2011-04-01  128833.47034\n",
       "2011-05-01  148146.72092"
      ]
     },
     "execution_count": 21,
     "metadata": {},
     "output_type": "execute_result"
    }
   ],
   "source": [
    "ss_data1.head()"
   ]
  },
  {
   "cell_type": "code",
   "execution_count": 22,
   "metadata": {},
   "outputs": [
    {
     "data": {
      "text/plain": [
       "(48, 1)"
      ]
     },
     "execution_count": 22,
     "metadata": {},
     "output_type": "execute_result"
    }
   ],
   "source": [
    "ss_data1.shape"
   ]
  },
  {
   "cell_type": "markdown",
   "metadata": {},
   "source": [
    "### Plot time series data"
   ]
  },
  {
   "cell_type": "code",
   "execution_count": 23,
   "metadata": {},
   "outputs": [
    {
     "data": {
      "image/png": "[encoded data removed]",
      "text/plain": [
       "<Figure size 864x288 with 1 Axes>"
      ]
     },
     "metadata": {
      "needs_background": "light"
     },
     "output_type": "display_data"
    }
   ],
   "source": [
    "ss_data1.plot(figsize=(12, 4))\n",
    "plt.legend(loc='best')\n",
    "plt.title('ss_data1')\n",
    "plt.show(block=False)"
   ]
  },
  {
   "cell_type": "markdown",
   "metadata": {},
   "source": [
    "### 1) Time series Decomposition"
   ]
  },
  {
   "cell_type": "markdown",
   "metadata": {},
   "source": [
    "### a) Additive seasonal decomposition:"
   ]
  },
  {
   "cell_type": "code",
   "execution_count": 24,
   "metadata": {},
   "outputs": [
    {
     "data": {
      "image/png": "[encoded data removed]",
      "text/plain": [
       "<Figure size 864x576 with 4 Axes>"
      ]
     },
     "metadata": {
      "needs_background": "light"
     },
     "output_type": "display_data"
    }
   ],
   "source": [
    "from pylab import rcParams\n",
    "import statsmodels.api as sm\n",
    "rcParams['figure.figsize'] = 12, 8\n",
    "decomposition = sm.tsa.seasonal_decompose(ss_data1.Sales, model='additive',freq = 10) # additive seasonal index\n",
    "fig = decomposition.plot()\n",
    "plt.show()\n"
   ]
  },
  {
   "cell_type": "markdown",
   "metadata": {},
   "source": [
    "### b) Multiplicative seasonal decomposition:"
   ]
  },
  {
   "cell_type": "code",
   "execution_count": 25,
   "metadata": {},
   "outputs": [
    {
     "data": {
      "image/png": "[encoded data removed]",
      "text/plain": [
       "<Figure size 864x576 with 4 Axes>"
      ]
     },
     "metadata": {
      "needs_background": "light"
     },
     "output_type": "display_data"
    }
   ],
   "source": [
    "decomposition = sm.tsa.seasonal_decompose(ss_data1.Sales, model='multiplicative',freq=10) # multiplicative seasonal index\n",
    "fig = decomposition.plot()\n",
    "plt.show()"
   ]
  },
  {
   "cell_type": "markdown",
   "metadata": {},
   "source": [
    "#### From the above decompostion we can see three components. They are \"Trend component\", \"Seasonal component\" and \"Residual component (noise)\"."
   ]
  },
  {
   "cell_type": "markdown",
   "metadata": {},
   "source": [
    "### Split time series data into training and test set"
   ]
  },
  {
   "cell_type": "code",
   "execution_count": 26,
   "metadata": {},
   "outputs": [],
   "source": [
    "train_len2 = 42\n",
    "train2 = ss_data1[:train_len2] # first 42 months as training set\n",
    "test2 = ss_data1[train_len2:] # lastt 6 months as testing set"
   ]
  },
  {
   "cell_type": "code",
   "execution_count": 27,
   "metadata": {},
   "outputs": [
    {
     "data": {
      "text/plain": [
       "(42, 1)"
      ]
     },
     "execution_count": 27,
     "metadata": {},
     "output_type": "execute_result"
    }
   ],
   "source": [
    "train2.shape"
   ]
  },
  {
   "cell_type": "code",
   "execution_count": 28,
   "metadata": {},
   "outputs": [
    {
     "data": {
      "text/plain": [
       "(6, 1)"
      ]
     },
     "execution_count": 28,
     "metadata": {},
     "output_type": "execute_result"
    }
   ],
   "source": [
    "test2.shape"
   ]
  },
  {
   "cell_type": "markdown",
   "metadata": {},
   "source": [
    "## 2. Exponential smoothing methods:"
   ]
  },
  {
   "cell_type": "markdown",
   "metadata": {},
   "source": [
    "### a) Simple exponential smoothing:"
   ]
  },
  {
   "cell_type": "code",
   "execution_count": 29,
   "metadata": {},
   "outputs": [
    {
     "name": "stderr",
     "output_type": "stream",
     "text": [
      "C:\\Users\\prade\\anaconda3\\lib\\site-packages\\statsmodels\\tsa\\base\\tsa_model.py:524: ValueWarning: No frequency information was provided, so inferred frequency MS will be used.\n",
      "  warnings.warn('No frequency information was'\n",
      "C:\\Users\\prade\\anaconda3\\lib\\site-packages\\statsmodels\\tsa\\holtwinters\\model.py:920: ConvergenceWarning: Optimization failed to converge. Check mle_retvals.\n",
      "  warnings.warn(\n"
     ]
    }
   ],
   "source": [
    "from statsmodels.tsa.holtwinters import SimpleExpSmoothing\n",
    "model = SimpleExpSmoothing(train2['Sales'])\n",
    "model_fit = model.fit(optimized=True)\n",
    "model_fit.params\n",
    "y_hat_ses = test2.copy()\n",
    "y_hat_ses['ses_forecast'] = model_fit.forecast(6)"
   ]
  },
  {
   "cell_type": "markdown",
   "metadata": {},
   "source": [
    "### Plot train, test and forecast"
   ]
  },
  {
   "cell_type": "code",
   "execution_count": 30,
   "metadata": {},
   "outputs": [
    {
     "data": {
      "image/png": "[encoded data removed]",
      "text/plain": [
       "<Figure size 864x288 with 1 Axes>"
      ]
     },
     "metadata": {
      "needs_background": "light"
     },
     "output_type": "display_data"
    }
   ],
   "source": [
    "plt.figure(figsize=(12,4))\n",
    "plt.plot(train2['Sales'], label='Train')\n",
    "plt.plot(test2['Sales'], label='Test')\n",
    "plt.plot(y_hat_ses['ses_forecast'], label='Simple exponential smoothing forecast')\n",
    "plt.legend(loc='best')\n",
    "plt.title('Simple Exponential Smoothing Method')\n",
    "plt.show()"
   ]
  },
  {
   "cell_type": "markdown",
   "metadata": {},
   "source": [
    "### Calculate MAPE"
   ]
  },
  {
   "cell_type": "code",
   "execution_count": 31,
   "metadata": {},
   "outputs": [
    {
     "data": {
      "text/html": [
       "<div>\n",
       "<style scoped>\n",
       "    .dataframe tbody tr th:only-of-type {\n",
       "        vertical-align: middle;\n",
       "    }\n",
       "\n",
       "    .dataframe tbody tr th {\n",
       "        vertical-align: top;\n",
       "    }\n",
       "\n",
       "    .dataframe thead th {\n",
       "        text-align: right;\n",
       "    }\n",
       "</style>\n",
       "<table border=\"1\" class=\"dataframe\">\n",
       "  <thead>\n",
       "    <tr style=\"text-align: right;\">\n",
       "      <th></th>\n",
       "      <th>Method</th>\n",
       "      <th>MAPE</th>\n",
       "    </tr>\n",
       "  </thead>\n",
       "  <tbody>\n",
       "    <tr>\n",
       "      <th>0</th>\n",
       "      <td>Simple exponential smoothing method</td>\n",
       "      <td>23.17</td>\n",
       "    </tr>\n",
       "  </tbody>\n",
       "</table>\n",
       "</div>"
      ],
      "text/plain": [
       "                                Method   MAPE\n",
       "0  Simple exponential smoothing method  23.17"
      ]
     },
     "execution_count": 31,
     "metadata": {},
     "output_type": "execute_result"
    }
   ],
   "source": [
    "mape = np.round(np.mean(np.abs(test2['Sales']-y_hat_ses['ses_forecast'])/test2['Sales'])*100,2)\n",
    "\n",
    "results = pd.DataFrame({'Method':['Simple exponential smoothing method'],'MAPE': [mape] })\n",
    "results"
   ]
  },
  {
   "cell_type": "markdown",
   "metadata": {},
   "source": [
    "### b) Holt's method with trend:"
   ]
  },
  {
   "cell_type": "code",
   "execution_count": 32,
   "metadata": {},
   "outputs": [
    {
     "name": "stdout",
     "output_type": "stream",
     "text": [
      "{'smoothing_level': 0.21714285714285714, 'smoothing_trend': 0.09771428571428571, 'smoothing_seasonal': nan, 'damping_trend': nan, 'initial_level': 138241.30041999975, 'initial_trend': -3271.359559999779, 'initial_seasons': array([], dtype=float64), 'use_boxcox': False, 'lamda': None, 'remove_bias': False}\n"
     ]
    },
    {
     "name": "stderr",
     "output_type": "stream",
     "text": [
      "C:\\Users\\prade\\anaconda3\\lib\\site-packages\\statsmodels\\tsa\\holtwinters\\model.py:920: ConvergenceWarning: Optimization failed to converge. Check mle_retvals.\n",
      "  warnings.warn(\n"
     ]
    }
   ],
   "source": [
    "from statsmodels.tsa.holtwinters import ExponentialSmoothing\n",
    "model = ExponentialSmoothing(np.asarray(train2['Sales']) ,seasonal_periods=12 ,trend='additive', seasonal=None)\n",
    "model_fit = model.fit(optimized=True)\n",
    "print(model_fit.params)\n",
    "y_hat_holt = test2.copy()\n",
    "y_hat_holt['holt_forecast'] = model_fit.forecast(len(test2))"
   ]
  },
  {
   "cell_type": "markdown",
   "metadata": {},
   "source": [
    "### Plot train, test and forecast"
   ]
  },
  {
   "cell_type": "code",
   "execution_count": 33,
   "metadata": {},
   "outputs": [
    {
     "data": {
      "image/png": "[encoded data removed]",
      "text/plain": [
       "<Figure size 864x288 with 1 Axes>"
      ]
     },
     "metadata": {
      "needs_background": "light"
     },
     "output_type": "display_data"
    }
   ],
   "source": [
    "plt.figure(figsize=(12,4))\n",
    "plt.plot( train2['Sales'], label='Train')\n",
    "plt.plot(test2['Sales'], label='Test')\n",
    "plt.plot(y_hat_holt['holt_forecast'], label='Holt\\'s exponential smoothing forecast')\n",
    "plt.legend(loc='best')\n",
    "plt.title('Holt\\'s Exponential Smoothing Method')\n",
    "plt.show()"
   ]
  },
  {
   "cell_type": "markdown",
   "metadata": {},
   "source": [
    "### Calculate MAPE"
   ]
  },
  {
   "cell_type": "code",
   "execution_count": 34,
   "metadata": {},
   "outputs": [
    {
     "data": {
      "text/html": [
       "<div>\n",
       "<style scoped>\n",
       "    .dataframe tbody tr th:only-of-type {\n",
       "        vertical-align: middle;\n",
       "    }\n",
       "\n",
       "    .dataframe tbody tr th {\n",
       "        vertical-align: top;\n",
       "    }\n",
       "\n",
       "    .dataframe thead th {\n",
       "        text-align: right;\n",
       "    }\n",
       "</style>\n",
       "<table border=\"1\" class=\"dataframe\">\n",
       "  <thead>\n",
       "    <tr style=\"text-align: right;\">\n",
       "      <th></th>\n",
       "      <th>Method</th>\n",
       "      <th>MAPE</th>\n",
       "    </tr>\n",
       "  </thead>\n",
       "  <tbody>\n",
       "    <tr>\n",
       "      <th>0</th>\n",
       "      <td>Simple exponential smoothing method</td>\n",
       "      <td>23.17</td>\n",
       "    </tr>\n",
       "    <tr>\n",
       "      <th>0</th>\n",
       "      <td>Holt's exponential smoothing method</td>\n",
       "      <td>18.82</td>\n",
       "    </tr>\n",
       "  </tbody>\n",
       "</table>\n",
       "</div>"
      ],
      "text/plain": [
       "                                Method   MAPE\n",
       "0  Simple exponential smoothing method  23.17\n",
       "0  Holt's exponential smoothing method  18.82"
      ]
     },
     "execution_count": 34,
     "metadata": {},
     "output_type": "execute_result"
    }
   ],
   "source": [
    "mape = np.round(np.mean(np.abs(test2['Sales']-y_hat_holt['holt_forecast'])/test2['Sales'])*100,2)\n",
    "\n",
    "tempResults = pd.DataFrame({'Method':['Holt\\'s exponential smoothing method'],'MAPE': [mape] })\n",
    "results = pd.concat([results, tempResults])\n",
    "results = results[['Method', 'MAPE']]\n",
    "results"
   ]
  },
  {
   "cell_type": "markdown",
   "metadata": {},
   "source": [
    "### c) Holt Winters' additive method with trend and seasonality:"
   ]
  },
  {
   "cell_type": "code",
   "execution_count": 35,
   "metadata": {},
   "outputs": [
    {
     "name": "stdout",
     "output_type": "stream",
     "text": [
      "{'smoothing_level': 0.1817857142857143, 'smoothing_trend': 9.999999999999999e-05, 'smoothing_seasonal': 0.6923351648351648, 'damping_trend': nan, 'initial_level': 193941.72800499998, 'initial_trend': 2902.6930476388857, 'initial_seasons': array([-55700.427585, -58971.787145, -22486.134285, -65108.257665,\n",
      "       -45795.007085,  -4603.288345, -31907.030445,  25281.767235,\n",
      "        61296.168975,  10733.350455,  20992.565855,  98418.239515]), 'use_boxcox': False, 'lamda': None, 'remove_bias': False}\n"
     ]
    },
    {
     "name": "stderr",
     "output_type": "stream",
     "text": [
      "C:\\Users\\prade\\anaconda3\\lib\\site-packages\\statsmodels\\tsa\\holtwinters\\model.py:920: ConvergenceWarning: Optimization failed to converge. Check mle_retvals.\n",
      "  warnings.warn(\n"
     ]
    }
   ],
   "source": [
    "y_hat_hwa = test2.copy()\n",
    "model = ExponentialSmoothing(np.asarray(train2['Sales']) ,seasonal_periods=12 ,trend='add', seasonal='add')\n",
    "model_fit = model.fit(optimized=True)\n",
    "print(model_fit.params)\n",
    "y_hat_hwa['hw_forecast'] = model_fit.forecast(6)"
   ]
  },
  {
   "cell_type": "markdown",
   "metadata": {},
   "source": [
    "### Plot train, test and forecast"
   ]
  },
  {
   "cell_type": "code",
   "execution_count": 36,
   "metadata": {},
   "outputs": [
    {
     "data": {
      "image/png": "[encoded data removed]",
      "text/plain": [
       "<Figure size 864x288 with 1 Axes>"
      ]
     },
     "metadata": {
      "needs_background": "light"
     },
     "output_type": "display_data"
    }
   ],
   "source": [
    "plt.figure(figsize=(12,4))\n",
    "plt.plot( train2['Sales'], label='Train')\n",
    "plt.plot(test2['Sales'], label='Test')\n",
    "plt.plot(y_hat_hwa['hw_forecast'], label='Holt Winters\\'s additive forecast')\n",
    "plt.legend(loc='best')\n",
    "plt.title('Holt Winters\\' Additive Method')\n",
    "plt.show()"
   ]
  },
  {
   "cell_type": "markdown",
   "metadata": {},
   "source": [
    "### Calculate MAPE"
   ]
  },
  {
   "cell_type": "code",
   "execution_count": 37,
   "metadata": {},
   "outputs": [
    {
     "data": {
      "text/html": [
       "<div>\n",
       "<style scoped>\n",
       "    .dataframe tbody tr th:only-of-type {\n",
       "        vertical-align: middle;\n",
       "    }\n",
       "\n",
       "    .dataframe tbody tr th {\n",
       "        vertical-align: top;\n",
       "    }\n",
       "\n",
       "    .dataframe thead th {\n",
       "        text-align: right;\n",
       "    }\n",
       "</style>\n",
       "<table border=\"1\" class=\"dataframe\">\n",
       "  <thead>\n",
       "    <tr style=\"text-align: right;\">\n",
       "      <th></th>\n",
       "      <th>Method</th>\n",
       "      <th>MAPE</th>\n",
       "    </tr>\n",
       "  </thead>\n",
       "  <tbody>\n",
       "    <tr>\n",
       "      <th>0</th>\n",
       "      <td>Simple exponential smoothing method</td>\n",
       "      <td>23.17</td>\n",
       "    </tr>\n",
       "    <tr>\n",
       "      <th>0</th>\n",
       "      <td>Holt's exponential smoothing method</td>\n",
       "      <td>18.82</td>\n",
       "    </tr>\n",
       "    <tr>\n",
       "      <th>0</th>\n",
       "      <td>Holt Winters' additive method</td>\n",
       "      <td>13.40</td>\n",
       "    </tr>\n",
       "  </tbody>\n",
       "</table>\n",
       "</div>"
      ],
      "text/plain": [
       "                                Method   MAPE\n",
       "0  Simple exponential smoothing method  23.17\n",
       "0  Holt's exponential smoothing method  18.82\n",
       "0        Holt Winters' additive method  13.40"
      ]
     },
     "execution_count": 37,
     "metadata": {},
     "output_type": "execute_result"
    }
   ],
   "source": [
    "mape = np.round(np.mean(np.abs(test2['Sales']-y_hat_hwa['hw_forecast'])/test2['Sales'])*100,2)\n",
    "\n",
    "tempResults = pd.DataFrame({'Method':['Holt Winters\\' additive method'],'MAPE': [mape] })\n",
    "results = pd.concat([results, tempResults])\n",
    "results = results[['Method','MAPE']]\n",
    "results"
   ]
  },
  {
   "cell_type": "markdown",
   "metadata": {},
   "source": [
    "### d) Holt Winter's multiplicative method with trend and seasonality"
   ]
  },
  {
   "cell_type": "code",
   "execution_count": 38,
   "metadata": {},
   "outputs": [
    {
     "name": "stdout",
     "output_type": "stream",
     "text": [
      "{'smoothing_level': 0.14642857142857144, 'smoothing_trend': 0.0001, 'smoothing_seasonal': 0.7550824175824176, 'damping_trend': nan, 'initial_level': 193941.72800499998, 'initial_trend': 2902.6930476388857, 'initial_seasons': array([0.71279813, 0.69593038, 0.88405727, 0.66428959, 0.76387234,\n",
      "       0.97626458, 0.83548135, 1.13035754, 1.31605457, 1.05534317,\n",
      "       1.10824161, 1.50746294]), 'use_boxcox': False, 'lamda': None, 'remove_bias': False}\n"
     ]
    },
    {
     "name": "stderr",
     "output_type": "stream",
     "text": [
      "C:\\Users\\prade\\anaconda3\\lib\\site-packages\\statsmodels\\tsa\\holtwinters\\model.py:920: ConvergenceWarning: Optimization failed to converge. Check mle_retvals.\n",
      "  warnings.warn(\n"
     ]
    }
   ],
   "source": [
    "y_hat_hwm = test2.copy()\n",
    "model = ExponentialSmoothing(np.asarray(train2['Sales']) ,seasonal_periods=12 ,trend='add', seasonal='mul')\n",
    "model_fit = model.fit(optimized=True)\n",
    "print(model_fit.params)\n",
    "y_hat_hwm['hw_forecast'] = model_fit.forecast(6)"
   ]
  },
  {
   "cell_type": "markdown",
   "metadata": {},
   "source": [
    "### Plot train, test and forecast"
   ]
  },
  {
   "cell_type": "code",
   "execution_count": 39,
   "metadata": {},
   "outputs": [
    {
     "data": {
      "image/png": "[encoded data removed]",
      "text/plain": [
       "<Figure size 864x288 with 1 Axes>"
      ]
     },
     "metadata": {
      "needs_background": "light"
     },
     "output_type": "display_data"
    }
   ],
   "source": [
    "plt.figure(figsize=(12,4))\n",
    "plt.plot( train2['Sales'], label='Train')\n",
    "plt.plot(test2['Sales'], label='Test')\n",
    "plt.plot(y_hat_hwm['hw_forecast'], label='Holt Winters\\'s mulitplicative forecast')\n",
    "plt.legend(loc='best')\n",
    "plt.title('Holt Winters\\' Mulitplicative Method')\n",
    "plt.show()"
   ]
  },
  {
   "cell_type": "markdown",
   "metadata": {},
   "source": [
    "### Calculate MAPE"
   ]
  },
  {
   "cell_type": "code",
   "execution_count": 40,
   "metadata": {},
   "outputs": [
    {
     "data": {
      "text/html": [
       "<div>\n",
       "<style scoped>\n",
       "    .dataframe tbody tr th:only-of-type {\n",
       "        vertical-align: middle;\n",
       "    }\n",
       "\n",
       "    .dataframe tbody tr th {\n",
       "        vertical-align: top;\n",
       "    }\n",
       "\n",
       "    .dataframe thead th {\n",
       "        text-align: right;\n",
       "    }\n",
       "</style>\n",
       "<table border=\"1\" class=\"dataframe\">\n",
       "  <thead>\n",
       "    <tr style=\"text-align: right;\">\n",
       "      <th></th>\n",
       "      <th>Method</th>\n",
       "      <th>MAPE</th>\n",
       "    </tr>\n",
       "  </thead>\n",
       "  <tbody>\n",
       "    <tr>\n",
       "      <th>0</th>\n",
       "      <td>Simple exponential smoothing method</td>\n",
       "      <td>23.17</td>\n",
       "    </tr>\n",
       "    <tr>\n",
       "      <th>0</th>\n",
       "      <td>Holt's exponential smoothing method</td>\n",
       "      <td>18.82</td>\n",
       "    </tr>\n",
       "    <tr>\n",
       "      <th>0</th>\n",
       "      <td>Holt Winters' additive method</td>\n",
       "      <td>13.40</td>\n",
       "    </tr>\n",
       "    <tr>\n",
       "      <th>0</th>\n",
       "      <td>Holt Winters' multiplicative method</td>\n",
       "      <td>12.49</td>\n",
       "    </tr>\n",
       "  </tbody>\n",
       "</table>\n",
       "</div>"
      ],
      "text/plain": [
       "                                Method   MAPE\n",
       "0  Simple exponential smoothing method  23.17\n",
       "0  Holt's exponential smoothing method  18.82\n",
       "0        Holt Winters' additive method  13.40\n",
       "0  Holt Winters' multiplicative method  12.49"
      ]
     },
     "execution_count": 40,
     "metadata": {},
     "output_type": "execute_result"
    }
   ],
   "source": [
    "mape = np.round(np.mean(np.abs(test2['Sales']-y_hat_hwm['hw_forecast'])/test2['Sales'])*100,2)\n",
    "\n",
    "tempResults = pd.DataFrame({'Method':['Holt Winters\\' multiplicative method'],'MAPE': [mape] })\n",
    "results = pd.concat([results, tempResults])\n",
    "results = results[['Method', 'MAPE']]\n",
    "results"
   ]
  },
  {
   "cell_type": "markdown",
   "metadata": {},
   "source": [
    "#### In the smoothing techniques 'Holt Winters multiplicative' forecast is able to predict the sales closer to the actual values and has the lowest MAPE value  among all the methods done above."
   ]
  },
  {
   "cell_type": "markdown",
   "metadata": {},
   "source": [
    "## 3. Auto Regressive methods:"
   ]
  },
  {
   "cell_type": "markdown",
   "metadata": {},
   "source": [
    "### a) Stationary tests:"
   ]
  },
  {
   "cell_type": "code",
   "execution_count": 41,
   "metadata": {},
   "outputs": [
    {
     "data": {
      "image/png": "[encoded data removed]",
      "text/plain": [
       "<Figure size 864x288 with 1 Axes>"
      ]
     },
     "metadata": {
      "needs_background": "light"
     },
     "output_type": "display_data"
    }
   ],
   "source": [
    "ss_data1['Sales'].plot(figsize=(12, 4))\n",
    "plt.legend(loc='best')\n",
    "plt.title('Retail Giant Sales')\n",
    "plt.show(block=False)"
   ]
  },
  {
   "cell_type": "markdown",
   "metadata": {},
   "source": [
    "### Augmented Dickey-Fuller (ADF) test"
   ]
  },
  {
   "cell_type": "code",
   "execution_count": 42,
   "metadata": {},
   "outputs": [
    {
     "name": "stdout",
     "output_type": "stream",
     "text": [
      "ADF Statistic: 0.046292\n",
      "Critical Values @ 0.05: -2.93\n",
      "p-value: 0.962197\n"
     ]
    }
   ],
   "source": [
    "from statsmodels.tsa.stattools import adfuller\n",
    "adf_test = adfuller(ss_data1['Sales'])\n",
    "\n",
    "print('ADF Statistic: %f' % adf_test[0])\n",
    "print('Critical Values @ 0.05: %.2f' % adf_test[4]['5%'])\n",
    "print('p-value: %f' % adf_test[1])"
   ]
  },
  {
   "cell_type": "markdown",
   "metadata": {},
   "source": [
    "### Kwiatkowski-Phillips-Schmidt-Shin (KPSS) test"
   ]
  },
  {
   "cell_type": "code",
   "execution_count": 43,
   "metadata": {},
   "outputs": [
    {
     "name": "stdout",
     "output_type": "stream",
     "text": [
      "KPSS Statistic: 0.583940\n",
      "Critical Values @ 0.05: 0.46\n",
      "p-value: 0.024096\n"
     ]
    }
   ],
   "source": [
    "from statsmodels.tsa.stattools import kpss\n",
    "kpss_test = kpss(ss_data1['Sales'])\n",
    "\n",
    "print('KPSS Statistic: %f' % kpss_test[0])\n",
    "print('Critical Values @ 0.05: %.2f' % kpss_test[3]['5%'])\n",
    "print('p-value: %f' % kpss_test[1])"
   ]
  },
  {
   "cell_type": "markdown",
   "metadata": {},
   "source": [
    "#### As per the 'p' values from the above two stationary tests we can infer that the series is not stationary."
   ]
  },
  {
   "cell_type": "markdown",
   "metadata": {},
   "source": [
    "## b) Conversion of Non-Stationary to Stationary"
   ]
  },
  {
   "cell_type": "markdown",
   "metadata": {},
   "source": [
    "### Box Cox transformation to make variance constant"
   ]
  },
  {
   "cell_type": "code",
   "execution_count": 44,
   "metadata": {},
   "outputs": [
    {
     "data": {
      "image/png": "[encoded data removed]",
      "text/plain": [
       "<Figure size 864x288 with 1 Axes>"
      ]
     },
     "metadata": {
      "needs_background": "light"
     },
     "output_type": "display_data"
    }
   ],
   "source": [
    "from scipy.stats import boxcox\n",
    "data_boxcox = pd.Series(boxcox(ss_data1['Sales'], lmbda=0), index = ss_data1.index)\n",
    "\n",
    "plt.figure(figsize=(12,4))\n",
    "plt.plot(data_boxcox, label='After Box Cox tranformation')\n",
    "plt.legend(loc='best')\n",
    "plt.title('After Box Cox transform')\n",
    "plt.show()"
   ]
  },
  {
   "cell_type": "markdown",
   "metadata": {},
   "source": [
    "### Differencing to remove trend"
   ]
  },
  {
   "cell_type": "code",
   "execution_count": 45,
   "metadata": {},
   "outputs": [
    {
     "data": {
      "image/png": "[encoded data removed]",
      "text/plain": [
       "<Figure size 864x288 with 1 Axes>"
      ]
     },
     "metadata": {
      "needs_background": "light"
     },
     "output_type": "display_data"
    }
   ],
   "source": [
    "data_boxcox_diff = pd.Series(data_boxcox - data_boxcox.shift(), ss_data1.index)\n",
    "plt.figure(figsize=(12,4))\n",
    "plt.plot(data_boxcox_diff, label='After Box Cox tranformation and differencing')\n",
    "plt.legend(loc='best')\n",
    "plt.title('After Box Cox transform and differencing')\n",
    "plt.show()"
   ]
  },
  {
   "cell_type": "code",
   "execution_count": 46,
   "metadata": {},
   "outputs": [],
   "source": [
    "data_boxcox_diff.dropna(inplace=True)"
   ]
  },
  {
   "cell_type": "code",
   "execution_count": 47,
   "metadata": {},
   "outputs": [
    {
     "data": {
      "text/plain": [
       "Order Date\n",
       "2014-08-01    0.440080\n",
       "2014-09-01   -0.065152\n",
       "2014-10-01    0.003011\n",
       "2014-11-01    0.224383\n",
       "2014-12-01   -0.173803\n",
       "dtype: float64"
      ]
     },
     "execution_count": 47,
     "metadata": {},
     "output_type": "execute_result"
    }
   ],
   "source": [
    "data_boxcox_diff.tail()"
   ]
  },
  {
   "cell_type": "markdown",
   "metadata": {},
   "source": [
    "### Augmented Dickey-Fuller (ADF) test"
   ]
  },
  {
   "cell_type": "code",
   "execution_count": 48,
   "metadata": {},
   "outputs": [
    {
     "name": "stdout",
     "output_type": "stream",
     "text": [
      "ADF Statistic: -9.208309\n",
      "Critical Values @ 0.05: -2.95\n",
      "p-value: 0.000000\n"
     ]
    }
   ],
   "source": [
    "adf_test = adfuller(data_boxcox_diff)\n",
    "\n",
    "print('ADF Statistic: %f' % adf_test[0])\n",
    "print('Critical Values @ 0.05: %.2f' % adf_test[4]['5%'])\n",
    "print('p-value: %f' % adf_test[1])"
   ]
  },
  {
   "cell_type": "markdown",
   "metadata": {},
   "source": [
    "### Kwiatkowski-Phillips-Schmidt-Shin (KPSS) test"
   ]
  },
  {
   "cell_type": "code",
   "execution_count": 49,
   "metadata": {},
   "outputs": [
    {
     "name": "stdout",
     "output_type": "stream",
     "text": [
      "KPSS Statistic: 0.124686\n",
      "Critical Values @ 0.05: 0.46\n",
      "p-value: 0.100000\n"
     ]
    },
    {
     "name": "stderr",
     "output_type": "stream",
     "text": [
      "C:\\Users\\prade\\anaconda3\\lib\\site-packages\\statsmodels\\tsa\\stattools.py:1876: InterpolationWarning: The test statistic is outside of the range of p-values available in the\n",
      "look-up table. The actual p-value is greater than the p-value returned.\n",
      "\n",
      "  warnings.warn(warn_msg.format(direction=\"greater\"), InterpolationWarning)\n"
     ]
    }
   ],
   "source": [
    "kpss_test = kpss(data_boxcox_diff)\n",
    "\n",
    "print('KPSS Statistic: %f' % kpss_test[0])\n",
    "print('Critical Values @ 0.05: %.2f' % kpss_test[3]['5%'])\n",
    "print('p-value: %f' % kpss_test[1])"
   ]
  },
  {
   "cell_type": "markdown",
   "metadata": {},
   "source": [
    "#### As per the 'p' values from the above stationary tests we can infer that the series is stationary."
   ]
  },
  {
   "cell_type": "markdown",
   "metadata": {},
   "source": [
    "### Splitting the Boxcox transformed data"
   ]
  },
  {
   "cell_type": "code",
   "execution_count": 50,
   "metadata": {},
   "outputs": [],
   "source": [
    "train_data_boxcox = data_boxcox[:train_len2]\n",
    "test_data_boxcox = data_boxcox[train_len2:]\n",
    "train_data_boxcox_diff = data_boxcox_diff[:train_len2-1]\n",
    "test_data_boxcox_diff = data_boxcox_diff[train_len2-1:]"
   ]
  },
  {
   "cell_type": "code",
   "execution_count": 51,
   "metadata": {},
   "outputs": [
    {
     "data": {
      "text/plain": [
       "Order Date\n",
       "2011-02-01   -0.023949\n",
       "2011-03-01    0.239272\n",
       "2011-04-01   -0.285804\n",
       "2011-05-01    0.139682\n",
       "2011-06-01    0.245333\n",
       "2011-07-01   -0.155726\n",
       "2011-08-01    0.302281\n",
       "2011-09-01    0.152104\n",
       "2011-10-01   -0.220772\n",
       "2011-11-01    0.048909\n",
       "2011-12-01    0.307653\n",
       "2012-01-01   -0.585458\n",
       "2012-02-01   -0.064307\n",
       "2012-03-01    0.278108\n",
       "2012-04-01   -0.072710\n",
       "2012-05-01    0.155271\n",
       "2012-06-01    0.129726\n",
       "2012-07-01   -0.357299\n",
       "2012-08-01    0.443270\n",
       "2012-09-01   -0.057194\n",
       "2012-10-01   -0.069587\n",
       "2012-11-01    0.123290\n",
       "2012-12-01    0.075563\n",
       "2013-01-01   -0.346556\n",
       "2013-02-01   -0.077501\n",
       "2013-03-01    0.187856\n",
       "2013-04-01    0.011358\n",
       "2013-05-01    0.266887\n",
       "2013-06-01    0.113655\n",
       "2013-07-01   -0.422309\n",
       "2013-08-01    0.370313\n",
       "2013-09-01    0.009283\n",
       "2013-10-01   -0.190773\n",
       "2013-11-01    0.349264\n",
       "2013-12-01   -0.031274\n",
       "2014-01-01   -0.324886\n",
       "2014-02-01   -0.094156\n",
       "2014-03-01    0.353579\n",
       "2014-04-01   -0.140535\n",
       "2014-05-01    0.008786\n",
       "2014-06-01    0.200792\n",
       "dtype: float64"
      ]
     },
     "execution_count": 51,
     "metadata": {},
     "output_type": "execute_result"
    }
   ],
   "source": [
    "train_data_boxcox_diff"
   ]
  },
  {
   "cell_type": "markdown",
   "metadata": {},
   "source": [
    "## c) Auto regression method (AR):"
   ]
  },
  {
   "cell_type": "code",
   "execution_count": 52,
   "metadata": {},
   "outputs": [
    {
     "name": "stdout",
     "output_type": "stream",
     "text": [
      "const      0.023325\n",
      "ar.L1.y   -0.369188\n",
      "dtype: float64\n"
     ]
    },
    {
     "name": "stderr",
     "output_type": "stream",
     "text": [
      "C:\\Users\\prade\\anaconda3\\lib\\site-packages\\statsmodels\\tsa\\base\\tsa_model.py:524: ValueWarning: No frequency information was provided, so inferred frequency MS will be used.\n",
      "  warnings.warn('No frequency information was'\n"
     ]
    }
   ],
   "source": [
    "from statsmodels.tsa.arima_model import ARIMA\n",
    "model = ARIMA(train_data_boxcox_diff, order=(1, 0, 0)) \n",
    "model_fit = model.fit()\n",
    "print(model_fit.params)"
   ]
  },
  {
   "cell_type": "markdown",
   "metadata": {},
   "source": [
    "### Recover original time series"
   ]
  },
  {
   "cell_type": "code",
   "execution_count": 53,
   "metadata": {},
   "outputs": [],
   "source": [
    "y_hat_ar = data_boxcox_diff.copy()\n",
    "y_hat_ar['ar_forecast_boxcox_diff'] = model_fit.predict(data_boxcox_diff.index.min(), data_boxcox_diff.index.max())\n",
    "y_hat_ar['ar_forecast_boxcox'] = y_hat_ar['ar_forecast_boxcox_diff'].cumsum()\n",
    "y_hat_ar['ar_forecast_boxcox'] = y_hat_ar['ar_forecast_boxcox'].add(data_boxcox[0])\n",
    "y_hat_ar['ar_forecast'] = np.exp(y_hat_ar['ar_forecast_boxcox'])"
   ]
  },
  {
   "cell_type": "markdown",
   "metadata": {},
   "source": [
    "### Plot train, test and forecast"
   ]
  },
  {
   "cell_type": "code",
   "execution_count": 54,
   "metadata": {},
   "outputs": [
    {
     "data": {
      "image/png": "[encoded data removed]",
      "text/plain": [
       "<Figure size 864x288 with 1 Axes>"
      ]
     },
     "metadata": {
      "needs_background": "light"
     },
     "output_type": "display_data"
    }
   ],
   "source": [
    "plt.figure(figsize=(12,4))\n",
    "plt.plot(train2['Sales'], label='Train')\n",
    "plt.plot(test2['Sales'], label='Test')\n",
    "plt.plot(y_hat_ar['ar_forecast'][test2.index.min():], label='Auto regression forecast')\n",
    "plt.legend(loc='best')\n",
    "plt.title('Auto Regression Method')\n",
    "plt.show()"
   ]
  },
  {
   "cell_type": "markdown",
   "metadata": {},
   "source": [
    "### Calculate MAPE"
   ]
  },
  {
   "cell_type": "code",
   "execution_count": 55,
   "metadata": {},
   "outputs": [
    {
     "data": {
      "text/html": [
       "<div>\n",
       "<style scoped>\n",
       "    .dataframe tbody tr th:only-of-type {\n",
       "        vertical-align: middle;\n",
       "    }\n",
       "\n",
       "    .dataframe tbody tr th {\n",
       "        vertical-align: top;\n",
       "    }\n",
       "\n",
       "    .dataframe thead th {\n",
       "        text-align: right;\n",
       "    }\n",
       "</style>\n",
       "<table border=\"1\" class=\"dataframe\">\n",
       "  <thead>\n",
       "    <tr style=\"text-align: right;\">\n",
       "      <th></th>\n",
       "      <th>Method</th>\n",
       "      <th>MAPE</th>\n",
       "    </tr>\n",
       "  </thead>\n",
       "  <tbody>\n",
       "    <tr>\n",
       "      <th>0</th>\n",
       "      <td>Simple exponential smoothing method</td>\n",
       "      <td>23.17</td>\n",
       "    </tr>\n",
       "    <tr>\n",
       "      <th>0</th>\n",
       "      <td>Holt's exponential smoothing method</td>\n",
       "      <td>18.82</td>\n",
       "    </tr>\n",
       "    <tr>\n",
       "      <th>0</th>\n",
       "      <td>Holt Winters' additive method</td>\n",
       "      <td>13.40</td>\n",
       "    </tr>\n",
       "    <tr>\n",
       "      <th>0</th>\n",
       "      <td>Holt Winters' multiplicative method</td>\n",
       "      <td>12.49</td>\n",
       "    </tr>\n",
       "    <tr>\n",
       "      <th>0</th>\n",
       "      <td>Autoregressive (AR) method</td>\n",
       "      <td>12.06</td>\n",
       "    </tr>\n",
       "  </tbody>\n",
       "</table>\n",
       "</div>"
      ],
      "text/plain": [
       "                                Method   MAPE\n",
       "0  Simple exponential smoothing method  23.17\n",
       "0  Holt's exponential smoothing method  18.82\n",
       "0        Holt Winters' additive method  13.40\n",
       "0  Holt Winters' multiplicative method  12.49\n",
       "0           Autoregressive (AR) method  12.06"
      ]
     },
     "execution_count": 55,
     "metadata": {},
     "output_type": "execute_result"
    }
   ],
   "source": [
    "mape = np.round(np.mean(np.abs(test2['Sales']-y_hat_ar['ar_forecast'][test2.index.min():])/test2['Sales'])*100,2)\n",
    "\n",
    "tempResults = pd.DataFrame({'Method':['Autoregressive (AR) method'],'MAPE': [mape] })\n",
    "results = pd.concat([results, tempResults])\n",
    "results = results[['Method', 'MAPE']]\n",
    "results"
   ]
  },
  {
   "cell_type": "markdown",
   "metadata": {},
   "source": [
    "## d) Moving average method (MA):"
   ]
  },
  {
   "cell_type": "code",
   "execution_count": 56,
   "metadata": {},
   "outputs": [
    {
     "name": "stdout",
     "output_type": "stream",
     "text": [
      "const      0.019228\n",
      "ma.L1.y   -0.999926\n",
      "dtype: float64\n"
     ]
    },
    {
     "name": "stderr",
     "output_type": "stream",
     "text": [
      "C:\\Users\\prade\\anaconda3\\lib\\site-packages\\statsmodels\\tsa\\base\\tsa_model.py:524: ValueWarning: No frequency information was provided, so inferred frequency MS will be used.\n",
      "  warnings.warn('No frequency information was'\n"
     ]
    }
   ],
   "source": [
    "model = ARIMA(train_data_boxcox_diff, order=(0, 0, 1)) \n",
    "model_fit = model.fit()\n",
    "print(model_fit.params)"
   ]
  },
  {
   "cell_type": "markdown",
   "metadata": {},
   "source": [
    "### Recover original time series"
   ]
  },
  {
   "cell_type": "code",
   "execution_count": 57,
   "metadata": {},
   "outputs": [],
   "source": [
    "y_hat_ma = data_boxcox_diff.copy()\n",
    "y_hat_ma['ma_forecast_boxcox_diff'] = model_fit.predict(data_boxcox_diff.index.min(), data_boxcox_diff.index.max())\n",
    "y_hat_ma['ma_forecast_boxcox'] = y_hat_ma['ma_forecast_boxcox_diff'].cumsum()\n",
    "y_hat_ma['ma_forecast_boxcox'] = y_hat_ma['ma_forecast_boxcox'].add(data_boxcox[0])\n",
    "y_hat_ma['ma_forecast'] = np.exp(y_hat_ma['ma_forecast_boxcox'])"
   ]
  },
  {
   "cell_type": "markdown",
   "metadata": {},
   "source": [
    "### Plot train, test and forecast"
   ]
  },
  {
   "cell_type": "code",
   "execution_count": 58,
   "metadata": {},
   "outputs": [
    {
     "data": {
      "image/png": "[encoded data removed]",
      "text/plain": [
       "<Figure size 864x288 with 1 Axes>"
      ]
     },
     "metadata": {
      "needs_background": "light"
     },
     "output_type": "display_data"
    }
   ],
   "source": [
    "plt.figure(figsize=(12,4))\n",
    "plt.plot(train2['Sales'], label='Train')\n",
    "plt.plot(test2['Sales'], label='Test')\n",
    "plt.plot(y_hat_ma['ma_forecast'][test2.index.min():], label='Moving average forecast')\n",
    "plt.legend(loc='best')\n",
    "plt.title('Moving Average Method')\n",
    "plt.show()"
   ]
  },
  {
   "cell_type": "markdown",
   "metadata": {},
   "source": [
    "### Calculate MAPE"
   ]
  },
  {
   "cell_type": "code",
   "execution_count": 59,
   "metadata": {},
   "outputs": [
    {
     "data": {
      "text/html": [
       "<div>\n",
       "<style scoped>\n",
       "    .dataframe tbody tr th:only-of-type {\n",
       "        vertical-align: middle;\n",
       "    }\n",
       "\n",
       "    .dataframe tbody tr th {\n",
       "        vertical-align: top;\n",
       "    }\n",
       "\n",
       "    .dataframe thead th {\n",
       "        text-align: right;\n",
       "    }\n",
       "</style>\n",
       "<table border=\"1\" class=\"dataframe\">\n",
       "  <thead>\n",
       "    <tr style=\"text-align: right;\">\n",
       "      <th></th>\n",
       "      <th>Method</th>\n",
       "      <th>MAPE</th>\n",
       "    </tr>\n",
       "  </thead>\n",
       "  <tbody>\n",
       "    <tr>\n",
       "      <th>0</th>\n",
       "      <td>Simple exponential smoothing method</td>\n",
       "      <td>23.17</td>\n",
       "    </tr>\n",
       "    <tr>\n",
       "      <th>0</th>\n",
       "      <td>Holt's exponential smoothing method</td>\n",
       "      <td>18.82</td>\n",
       "    </tr>\n",
       "    <tr>\n",
       "      <th>0</th>\n",
       "      <td>Holt Winters' additive method</td>\n",
       "      <td>13.40</td>\n",
       "    </tr>\n",
       "    <tr>\n",
       "      <th>0</th>\n",
       "      <td>Holt Winters' multiplicative method</td>\n",
       "      <td>12.49</td>\n",
       "    </tr>\n",
       "    <tr>\n",
       "      <th>0</th>\n",
       "      <td>Autoregressive (AR) method</td>\n",
       "      <td>12.06</td>\n",
       "    </tr>\n",
       "    <tr>\n",
       "      <th>0</th>\n",
       "      <td>Moving Average (MA) method</td>\n",
       "      <td>58.53</td>\n",
       "    </tr>\n",
       "  </tbody>\n",
       "</table>\n",
       "</div>"
      ],
      "text/plain": [
       "                                Method   MAPE\n",
       "0  Simple exponential smoothing method  23.17\n",
       "0  Holt's exponential smoothing method  18.82\n",
       "0        Holt Winters' additive method  13.40\n",
       "0  Holt Winters' multiplicative method  12.49\n",
       "0           Autoregressive (AR) method  12.06\n",
       "0           Moving Average (MA) method  58.53"
      ]
     },
     "execution_count": 59,
     "metadata": {},
     "output_type": "execute_result"
    }
   ],
   "source": [
    "mape = np.round(np.mean(np.abs(test2['Sales']-y_hat_ma['ma_forecast'][test2.index.min():])/test2['Sales'])*100,2)\n",
    "\n",
    "tempResults = pd.DataFrame({'Method':['Moving Average (MA) method'],'MAPE': [mape]})\n",
    "results = pd.concat([results, tempResults])\n",
    "results = results[['Method', 'MAPE']]\n",
    "results"
   ]
  },
  {
   "cell_type": "markdown",
   "metadata": {},
   "source": [
    "## e) Auto regression moving average method (ARMA):"
   ]
  },
  {
   "cell_type": "code",
   "execution_count": 60,
   "metadata": {},
   "outputs": [
    {
     "name": "stdout",
     "output_type": "stream",
     "text": [
      "const      0.019326\n",
      "ar.L1.y    0.124058\n",
      "ma.L1.y   -0.999908\n",
      "dtype: float64\n"
     ]
    },
    {
     "name": "stderr",
     "output_type": "stream",
     "text": [
      "C:\\Users\\prade\\anaconda3\\lib\\site-packages\\statsmodels\\tsa\\base\\tsa_model.py:524: ValueWarning: No frequency information was provided, so inferred frequency MS will be used.\n",
      "  warnings.warn('No frequency information was'\n"
     ]
    }
   ],
   "source": [
    "model = ARIMA(train_data_boxcox_diff, order=(1, 0, 1))\n",
    "model_fit = model.fit()\n",
    "print(model_fit.params)"
   ]
  },
  {
   "cell_type": "markdown",
   "metadata": {},
   "source": [
    "### Recover original time series"
   ]
  },
  {
   "cell_type": "code",
   "execution_count": 61,
   "metadata": {},
   "outputs": [],
   "source": [
    "y_hat_arma = data_boxcox_diff.copy()\n",
    "y_hat_arma['arma_forecast_boxcox_diff'] = model_fit.predict(data_boxcox_diff.index.min(), data_boxcox_diff.index.max())\n",
    "y_hat_arma['arma_forecast_boxcox'] = y_hat_arma['arma_forecast_boxcox_diff'].cumsum()\n",
    "y_hat_arma['arma_forecast_boxcox'] = y_hat_arma['arma_forecast_boxcox'].add(data_boxcox[0])\n",
    "y_hat_arma['arma_forecast'] = np.exp(y_hat_arma['arma_forecast_boxcox'])"
   ]
  },
  {
   "cell_type": "markdown",
   "metadata": {},
   "source": [
    "### Plot train, test and forecast"
   ]
  },
  {
   "cell_type": "code",
   "execution_count": 62,
   "metadata": {},
   "outputs": [
    {
     "data": {
      "image/png": "[encoded data removed]",
      "text/plain": [
       "<Figure size 864x288 with 1 Axes>"
      ]
     },
     "metadata": {
      "needs_background": "light"
     },
     "output_type": "display_data"
    }
   ],
   "source": [
    "plt.figure(figsize=(12,4))\n",
    "plt.plot( ss_data1['Sales'][:train_len-1], label='Train')\n",
    "plt.plot(ss_data1['Sales'][train_len-1:], label='Test')\n",
    "plt.plot(y_hat_arma['arma_forecast'][test2.index.min():], label='ARMA forecast')\n",
    "plt.legend(loc='best')\n",
    "plt.title('ARMA Method')\n",
    "plt.show()"
   ]
  },
  {
   "cell_type": "markdown",
   "metadata": {},
   "source": [
    "### Calculate MAPE"
   ]
  },
  {
   "cell_type": "code",
   "execution_count": 63,
   "metadata": {},
   "outputs": [
    {
     "data": {
      "text/html": [
       "<div>\n",
       "<style scoped>\n",
       "    .dataframe tbody tr th:only-of-type {\n",
       "        vertical-align: middle;\n",
       "    }\n",
       "\n",
       "    .dataframe tbody tr th {\n",
       "        vertical-align: top;\n",
       "    }\n",
       "\n",
       "    .dataframe thead th {\n",
       "        text-align: right;\n",
       "    }\n",
       "</style>\n",
       "<table border=\"1\" class=\"dataframe\">\n",
       "  <thead>\n",
       "    <tr style=\"text-align: right;\">\n",
       "      <th></th>\n",
       "      <th>Method</th>\n",
       "      <th>MAPE</th>\n",
       "    </tr>\n",
       "  </thead>\n",
       "  <tbody>\n",
       "    <tr>\n",
       "      <th>0</th>\n",
       "      <td>Simple exponential smoothing method</td>\n",
       "      <td>23.17</td>\n",
       "    </tr>\n",
       "    <tr>\n",
       "      <th>0</th>\n",
       "      <td>Holt's exponential smoothing method</td>\n",
       "      <td>18.82</td>\n",
       "    </tr>\n",
       "    <tr>\n",
       "      <th>0</th>\n",
       "      <td>Holt Winters' additive method</td>\n",
       "      <td>13.40</td>\n",
       "    </tr>\n",
       "    <tr>\n",
       "      <th>0</th>\n",
       "      <td>Holt Winters' multiplicative method</td>\n",
       "      <td>12.49</td>\n",
       "    </tr>\n",
       "    <tr>\n",
       "      <th>0</th>\n",
       "      <td>Autoregressive (AR) method</td>\n",
       "      <td>12.06</td>\n",
       "    </tr>\n",
       "    <tr>\n",
       "      <th>0</th>\n",
       "      <td>Moving Average (MA) method</td>\n",
       "      <td>58.53</td>\n",
       "    </tr>\n",
       "    <tr>\n",
       "      <th>0</th>\n",
       "      <td>Autoregressive moving average (ARMA) method</td>\n",
       "      <td>54.08</td>\n",
       "    </tr>\n",
       "  </tbody>\n",
       "</table>\n",
       "</div>"
      ],
      "text/plain": [
       "                                        Method   MAPE\n",
       "0          Simple exponential smoothing method  23.17\n",
       "0          Holt's exponential smoothing method  18.82\n",
       "0                Holt Winters' additive method  13.40\n",
       "0          Holt Winters' multiplicative method  12.49\n",
       "0                   Autoregressive (AR) method  12.06\n",
       "0                   Moving Average (MA) method  58.53\n",
       "0  Autoregressive moving average (ARMA) method  54.08"
      ]
     },
     "execution_count": 63,
     "metadata": {},
     "output_type": "execute_result"
    }
   ],
   "source": [
    "#rmse = np.sqrt(mean_squared_error(test2['Sales'], y_hat_arma['arma_forecast'][train_len2-1:])).round(2)\n",
    "mape = np.round(np.mean(np.abs(test2['Sales']-y_hat_arma['arma_forecast'][train_len2-1:])/test2['Sales'])*100,2)\n",
    "\n",
    "tempResults = pd.DataFrame({'Method':['Autoregressive moving average (ARMA) method'],'MAPE': [mape] })\n",
    "results = pd.concat([results, tempResults])\n",
    "results = results[['Method', 'MAPE']]\n",
    "results"
   ]
  },
  {
   "cell_type": "markdown",
   "metadata": {},
   "source": [
    "## f) Auto regressive integrated moving average (ARIMA):"
   ]
  },
  {
   "cell_type": "code",
   "execution_count": 64,
   "metadata": {},
   "outputs": [
    {
     "name": "stdout",
     "output_type": "stream",
     "text": [
      "const        0.019326\n",
      "ar.L1.D.y    0.124058\n",
      "ma.L1.D.y   -0.999908\n",
      "dtype: float64\n"
     ]
    },
    {
     "name": "stderr",
     "output_type": "stream",
     "text": [
      "C:\\Users\\prade\\anaconda3\\lib\\site-packages\\statsmodels\\tsa\\base\\tsa_model.py:524: ValueWarning: No frequency information was provided, so inferred frequency MS will be used.\n",
      "  warnings.warn('No frequency information was'\n",
      "C:\\Users\\prade\\anaconda3\\lib\\site-packages\\statsmodels\\tsa\\base\\tsa_model.py:524: ValueWarning: No frequency information was provided, so inferred frequency MS will be used.\n",
      "  warnings.warn('No frequency information was'\n"
     ]
    }
   ],
   "source": [
    "model = ARIMA(train_data_boxcox, order=(1, 1, 1))\n",
    "model_fit = model.fit()\n",
    "print(model_fit.params)\n"
   ]
  },
  {
   "cell_type": "markdown",
   "metadata": {},
   "source": [
    "### Recover original time series forecast"
   ]
  },
  {
   "cell_type": "code",
   "execution_count": 65,
   "metadata": {},
   "outputs": [],
   "source": [
    "y_hat_arima = data_boxcox_diff.copy()\n",
    "y_hat_arima['arima_forecast_boxcox_diff'] = model_fit.predict(data_boxcox_diff.index.min(), data_boxcox_diff.index.max())\n",
    "y_hat_arima['arima_forecast_boxcox'] = y_hat_arima['arima_forecast_boxcox_diff'].cumsum()\n",
    "y_hat_arima['arima_forecast_boxcox'] = y_hat_arima['arima_forecast_boxcox'].add(data_boxcox[0])\n",
    "y_hat_arima['arima_forecast'] = np.exp(y_hat_arima['arima_forecast_boxcox'])"
   ]
  },
  {
   "cell_type": "markdown",
   "metadata": {},
   "source": [
    "### Plot train, test and forecast"
   ]
  },
  {
   "cell_type": "code",
   "execution_count": 66,
   "metadata": {},
   "outputs": [
    {
     "data": {
      "image/png": "[encoded data removed]",
      "text/plain": [
       "<Figure size 864x288 with 1 Axes>"
      ]
     },
     "metadata": {
      "needs_background": "light"
     },
     "output_type": "display_data"
    }
   ],
   "source": [
    "plt.figure(figsize=(12,4))\n",
    "plt.plot(train2['Sales'], label='Train')\n",
    "plt.plot(test2['Sales'], label='Test')\n",
    "plt.plot(y_hat_arima['arima_forecast'][test2.index.min():], label='ARIMA forecast')\n",
    "plt.legend(loc='best')\n",
    "plt.title('Autoregressive integrated moving average (ARIMA) method')\n",
    "plt.show()"
   ]
  },
  {
   "cell_type": "markdown",
   "metadata": {},
   "source": [
    "### Calculate MAPE"
   ]
  },
  {
   "cell_type": "code",
   "execution_count": 67,
   "metadata": {},
   "outputs": [
    {
     "data": {
      "text/html": [
       "<div>\n",
       "<style scoped>\n",
       "    .dataframe tbody tr th:only-of-type {\n",
       "        vertical-align: middle;\n",
       "    }\n",
       "\n",
       "    .dataframe tbody tr th {\n",
       "        vertical-align: top;\n",
       "    }\n",
       "\n",
       "    .dataframe thead th {\n",
       "        text-align: right;\n",
       "    }\n",
       "</style>\n",
       "<table border=\"1\" class=\"dataframe\">\n",
       "  <thead>\n",
       "    <tr style=\"text-align: right;\">\n",
       "      <th></th>\n",
       "      <th>Method</th>\n",
       "      <th>MAPE</th>\n",
       "    </tr>\n",
       "  </thead>\n",
       "  <tbody>\n",
       "    <tr>\n",
       "      <th>0</th>\n",
       "      <td>Simple exponential smoothing method</td>\n",
       "      <td>23.17</td>\n",
       "    </tr>\n",
       "    <tr>\n",
       "      <th>0</th>\n",
       "      <td>Holt's exponential smoothing method</td>\n",
       "      <td>18.82</td>\n",
       "    </tr>\n",
       "    <tr>\n",
       "      <th>0</th>\n",
       "      <td>Holt Winters' additive method</td>\n",
       "      <td>13.40</td>\n",
       "    </tr>\n",
       "    <tr>\n",
       "      <th>0</th>\n",
       "      <td>Holt Winters' multiplicative method</td>\n",
       "      <td>12.49</td>\n",
       "    </tr>\n",
       "    <tr>\n",
       "      <th>0</th>\n",
       "      <td>Autoregressive (AR) method</td>\n",
       "      <td>12.06</td>\n",
       "    </tr>\n",
       "    <tr>\n",
       "      <th>0</th>\n",
       "      <td>Moving Average (MA) method</td>\n",
       "      <td>58.53</td>\n",
       "    </tr>\n",
       "    <tr>\n",
       "      <th>0</th>\n",
       "      <td>Autoregressive moving average (ARMA) method</td>\n",
       "      <td>54.08</td>\n",
       "    </tr>\n",
       "    <tr>\n",
       "      <th>0</th>\n",
       "      <td>Autoregressive integrated moving average (ARIM...</td>\n",
       "      <td>54.08</td>\n",
       "    </tr>\n",
       "  </tbody>\n",
       "</table>\n",
       "</div>"
      ],
      "text/plain": [
       "                                              Method   MAPE\n",
       "0                Simple exponential smoothing method  23.17\n",
       "0                Holt's exponential smoothing method  18.82\n",
       "0                      Holt Winters' additive method  13.40\n",
       "0                Holt Winters' multiplicative method  12.49\n",
       "0                         Autoregressive (AR) method  12.06\n",
       "0                         Moving Average (MA) method  58.53\n",
       "0        Autoregressive moving average (ARMA) method  54.08\n",
       "0  Autoregressive integrated moving average (ARIM...  54.08"
      ]
     },
     "execution_count": 67,
     "metadata": {},
     "output_type": "execute_result"
    }
   ],
   "source": [
    "mape = np.round(np.mean(np.abs(test2['Sales']-y_hat_arima['arima_forecast'][test2.index.min():])/test2['Sales'])*100,2)\n",
    "\n",
    "tempResults = pd.DataFrame({'Method':['Autoregressive integrated moving average (ARIMA) method'],'MAPE': [mape] })\n",
    "results = pd.concat([results, tempResults])\n",
    "results = results[['Method', 'MAPE']]\n",
    "results"
   ]
  },
  {
   "cell_type": "markdown",
   "metadata": {},
   "source": [
    "## g) Seasonal auto regressive integrated moving average (SARIMA):"
   ]
  },
  {
   "cell_type": "code",
   "execution_count": 68,
   "metadata": {},
   "outputs": [
    {
     "name": "stderr",
     "output_type": "stream",
     "text": [
      "C:\\Users\\prade\\anaconda3\\lib\\site-packages\\statsmodels\\tsa\\base\\tsa_model.py:524: ValueWarning: No frequency information was provided, so inferred frequency MS will be used.\n",
      "  warnings.warn('No frequency information was'\n",
      "C:\\Users\\prade\\anaconda3\\lib\\site-packages\\statsmodels\\tsa\\base\\tsa_model.py:524: ValueWarning: No frequency information was provided, so inferred frequency MS will be used.\n",
      "  warnings.warn('No frequency information was'\n"
     ]
    },
    {
     "name": "stdout",
     "output_type": "stream",
     "text": [
      "ar.L1       0.206822\n",
      "ma.L1      -0.993560\n",
      "ar.S.L12    0.484093\n",
      "ma.S.L12   -0.947126\n",
      "sigma2      0.009091\n",
      "dtype: float64\n"
     ]
    }
   ],
   "source": [
    "from statsmodels.tsa.statespace.sarimax import SARIMAX\n",
    "\n",
    "model = SARIMAX(train_data_boxcox, order=(1, 1, 1), seasonal_order=(1, 1, 1, 12)) \n",
    "model_fit = model.fit()\n",
    "print(model_fit.params)"
   ]
  },
  {
   "cell_type": "markdown",
   "metadata": {},
   "source": [
    "### Recover original time series forecast"
   ]
  },
  {
   "cell_type": "code",
   "execution_count": 69,
   "metadata": {},
   "outputs": [],
   "source": [
    "y_hat_sarima = data_boxcox_diff.copy()\n",
    "y_hat_sarima['sarima_forecast_boxcox'] = model_fit.predict(data_boxcox_diff.index.min(), data_boxcox_diff.index.max())\n",
    "y_hat_sarima['sarima_forecast'] = np.exp(y_hat_sarima['sarima_forecast_boxcox'])"
   ]
  },
  {
   "cell_type": "markdown",
   "metadata": {},
   "source": [
    "### Plot train, test and forecast"
   ]
  },
  {
   "cell_type": "code",
   "execution_count": 70,
   "metadata": {},
   "outputs": [
    {
     "data": {
      "image/png": "[encoded data removed]",
      "text/plain": [
       "<Figure size 864x288 with 1 Axes>"
      ]
     },
     "metadata": {
      "needs_background": "light"
     },
     "output_type": "display_data"
    }
   ],
   "source": [
    "plt.figure(figsize=(12,4))\n",
    "plt.plot(train2['Sales'], label='Train')\n",
    "plt.plot(test2['Sales'], label='Test')\n",
    "plt.plot(y_hat_sarima['sarima_forecast'][test2.index.min():], label='SARIMA forecast')\n",
    "plt.legend(loc='best')\n",
    "plt.title('(SARIMA) Seasonal autoregressive integrated moving average method')\n",
    "plt.show()"
   ]
  },
  {
   "cell_type": "markdown",
   "metadata": {},
   "source": [
    "### Calculate MAPE"
   ]
  },
  {
   "cell_type": "code",
   "execution_count": 71,
   "metadata": {},
   "outputs": [
    {
     "data": {
      "text/html": [
       "<div>\n",
       "<style scoped>\n",
       "    .dataframe tbody tr th:only-of-type {\n",
       "        vertical-align: middle;\n",
       "    }\n",
       "\n",
       "    .dataframe tbody tr th {\n",
       "        vertical-align: top;\n",
       "    }\n",
       "\n",
       "    .dataframe thead th {\n",
       "        text-align: right;\n",
       "    }\n",
       "</style>\n",
       "<table border=\"1\" class=\"dataframe\">\n",
       "  <thead>\n",
       "    <tr style=\"text-align: right;\">\n",
       "      <th></th>\n",
       "      <th>Method</th>\n",
       "      <th>MAPE</th>\n",
       "    </tr>\n",
       "  </thead>\n",
       "  <tbody>\n",
       "    <tr>\n",
       "      <th>0</th>\n",
       "      <td>Simple exponential smoothing method</td>\n",
       "      <td>23.17</td>\n",
       "    </tr>\n",
       "    <tr>\n",
       "      <th>0</th>\n",
       "      <td>Holt's exponential smoothing method</td>\n",
       "      <td>18.82</td>\n",
       "    </tr>\n",
       "    <tr>\n",
       "      <th>0</th>\n",
       "      <td>Holt Winters' additive method</td>\n",
       "      <td>13.40</td>\n",
       "    </tr>\n",
       "    <tr>\n",
       "      <th>0</th>\n",
       "      <td>Holt Winters' multiplicative method</td>\n",
       "      <td>12.49</td>\n",
       "    </tr>\n",
       "    <tr>\n",
       "      <th>0</th>\n",
       "      <td>Autoregressive (AR) method</td>\n",
       "      <td>12.06</td>\n",
       "    </tr>\n",
       "    <tr>\n",
       "      <th>0</th>\n",
       "      <td>Moving Average (MA) method</td>\n",
       "      <td>58.53</td>\n",
       "    </tr>\n",
       "    <tr>\n",
       "      <th>0</th>\n",
       "      <td>Autoregressive moving average (ARMA) method</td>\n",
       "      <td>54.08</td>\n",
       "    </tr>\n",
       "    <tr>\n",
       "      <th>0</th>\n",
       "      <td>Autoregressive integrated moving average (ARIM...</td>\n",
       "      <td>54.08</td>\n",
       "    </tr>\n",
       "    <tr>\n",
       "      <th>0</th>\n",
       "      <td>(SARIMA) Seasonal autoregressive integrated mo...</td>\n",
       "      <td>7.89</td>\n",
       "    </tr>\n",
       "  </tbody>\n",
       "</table>\n",
       "</div>"
      ],
      "text/plain": [
       "                                              Method   MAPE\n",
       "0                Simple exponential smoothing method  23.17\n",
       "0                Holt's exponential smoothing method  18.82\n",
       "0                      Holt Winters' additive method  13.40\n",
       "0                Holt Winters' multiplicative method  12.49\n",
       "0                         Autoregressive (AR) method  12.06\n",
       "0                         Moving Average (MA) method  58.53\n",
       "0        Autoregressive moving average (ARMA) method  54.08\n",
       "0  Autoregressive integrated moving average (ARIM...  54.08\n",
       "0  (SARIMA) Seasonal autoregressive integrated mo...   7.89"
      ]
     },
     "execution_count": 71,
     "metadata": {},
     "output_type": "execute_result"
    }
   ],
   "source": [
    "mape = np.round(np.mean(np.abs(test2['Sales']-y_hat_sarima['sarima_forecast'][test2.index.min():])/test2['Sales'])*100,2)\n",
    "\n",
    "tempResults = pd.DataFrame({'Method':['(SARIMA) Seasonal autoregressive integrated moving average method'],'MAPE': [mape] })\n",
    "results = pd.concat([results, tempResults])\n",
    "results = results[['Method','MAPE']]\n",
    "results"
   ]
  },
  {
   "cell_type": "markdown",
   "metadata": {},
   "source": [
    "#### In the Auto Regressive techniques 'SARIMA' forecast is able to predict the sales closer to the actual values and has the lowest MAPE value  among all the methods done above."
   ]
  },
  {
   "cell_type": "markdown",
   "metadata": {},
   "source": [
    "### 4) Conclusion:"
   ]
  },
  {
   "cell_type": "markdown",
   "metadata": {},
   "source": [
    "#### “Holts’s winter method” in case of smoothing techniques whereas “SARIMA”  in case of Auto Regressive methods. \n",
    "#### Between “Holt’s winter method” and “SARIMA” methods , “SARIMA” is the best for the sales forecast as it has low MAPE value compared to “Holt’s winter method”."
   ]
  }
 ],
 "metadata": {
  "kernelspec": {
   "display_name": "Python 3",
   "language": "python",
   "name": "python3"
  },
  "language_info": {
   "codemirror_mode": {
    "name": "ipython",
    "version": 3
   },
   "file_extension": ".py",
   "mimetype": "text/x-python",
   "name": "python",
   "nbconvert_exporter": "python",
   "pygments_lexer": "ipython3",
   "version": "3.8.5"
  }
 },
 "nbformat": 4,
 "nbformat_minor": 4
}
